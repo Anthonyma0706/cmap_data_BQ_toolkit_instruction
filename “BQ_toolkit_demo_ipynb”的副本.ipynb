{
  "nbformat": 4,
  "nbformat_minor": 0,
  "metadata": {
    "kernelspec": {
      "display_name": "Python 3",
      "language": "python",
      "name": "python3"
    },
    "language_info": {
      "codemirror_mode": {
        "name": "ipython",
        "version": 3
      },
      "file_extension": ".py",
      "mimetype": "text/x-python",
      "name": "python",
      "nbconvert_exporter": "python",
      "pygments_lexer": "ipython3",
      "version": "3.8.5"
    },
    "toc": {
      "base_numbering": 1,
      "nav_menu": {},
      "number_sections": false,
      "sideBar": true,
      "skip_h1_title": true,
      "title_cell": "Table of Contents",
      "title_sidebar": "Contents",
      "toc_cell": false,
      "toc_position": {},
      "toc_section_display": true,
      "toc_window_display": false
    },
    "colab": {
      "name": "“BQ_toolkit_demo.ipynb”的副本",
      "provenance": [],
      "collapsed_sections": [
        "titAMjiCDnqX",
        "LMA5uHXtB7V8",
        "8H7RQUqvSpWp",
        "erfU4Fniqhwx",
        "OIUh2yzkCEvz",
        "yHAUuOQCG5Ml",
        "c-K98pMLWsRA",
        "5Kml4zu0Vfg3",
        "fATzaSlUV2cX",
        "LBX2J0MrViB4",
        "Wus3S7O1xc_B",
        "KrrRIYOrdCAK",
        "qRWddbnJtnf5"
      ],
      "include_colab_link": true
    }
  },
  "cells": [
    {
      "cell_type": "markdown",
      "metadata": {
        "id": "view-in-github",
        "colab_type": "text"
      },
      "source": [
        "<a href=\"https://colab.research.google.com/github/Anthonyma0706/cmap_data_BQ_toolkit_instruction/blob/main/%E2%80%9CBQ_toolkit_demo_ipynb%E2%80%9D%E7%9A%84%E5%89%AF%E6%9C%AC.ipynb\" target=\"_parent\"><img src=\"https://colab.research.google.com/assets/colab-badge.svg\" alt=\"Open In Colab\"/></a>"
      ]
    },
    {
      "cell_type": "markdown",
      "metadata": {
        "id": "MrN92xlsDnqE"
      },
      "source": [
        "## cmapBQ Tutorial\n",
        "\n",
        "This notebook is meant to show a few examples of exploring, selecting and retrieving data available within LINCS-CMap datasets from Google BigQuery.\n",
        "\n",
        "`cmapBQ` allows for targeted retrieval of relevant gene expression data from the resources provided by The Broad Institute and LINCS Project"
      ]
    },
    {
      "cell_type": "markdown",
      "metadata": {
        "id": "9BzY-ZW3Dq7k"
      },
      "source": [
        "### Package installation"
      ]
    },
    {
      "cell_type": "markdown",
      "metadata": {
        "id": "M_QOAzWJxCuM"
      },
      "source": [
        "The cmapBQ package is available from `pip` and can be installed using the command below. Documentation is available on [Read The Docs](https://cmapbq.readthedocs.io/en/latest/)"
      ]
    },
    {
      "cell_type": "code",
      "metadata": {
        "id": "BOWAFnXQD3Xs",
        "colab": {
          "base_uri": "https://localhost:8080/"
        },
        "outputId": "2fa346f0-ad27-45af-c46a-19f79985a87c"
      },
      "source": [
        "!pip -q install cmapBQ"
      ],
      "execution_count": 2,
      "outputs": [
        {
          "output_type": "stream",
          "text": [
            "\u001b[?25l\r\u001b[K     |██▏                             | 10 kB 22.0 MB/s eta 0:00:01\r\u001b[K     |████▍                           | 20 kB 27.1 MB/s eta 0:00:01\r\u001b[K     |██████▌                         | 30 kB 32.4 MB/s eta 0:00:01\r\u001b[K     |████████▊                       | 40 kB 36.2 MB/s eta 0:00:01\r\u001b[K     |███████████                     | 51 kB 38.6 MB/s eta 0:00:01\r\u001b[K     |█████████████                   | 61 kB 41.1 MB/s eta 0:00:01\r\u001b[K     |███████████████▎                | 71 kB 10.5 MB/s eta 0:00:01\r\u001b[K     |█████████████████▌              | 81 kB 11.3 MB/s eta 0:00:01\r\u001b[K     |███████████████████▋            | 92 kB 12.4 MB/s eta 0:00:01\r\u001b[K     |█████████████████████▉          | 102 kB 13.5 MB/s eta 0:00:01\r\u001b[K     |████████████████████████        | 112 kB 13.5 MB/s eta 0:00:01\r\u001b[K     |██████████████████████████▏     | 122 kB 13.5 MB/s eta 0:00:01\r\u001b[K     |████████████████████████████▍   | 133 kB 13.5 MB/s eta 0:00:01\r\u001b[K     |██████████████████████████████▌ | 143 kB 13.5 MB/s eta 0:00:01\r\u001b[K     |████████████████████████████████| 150 kB 13.5 MB/s \n",
            "\u001b[?25h"
          ],
          "name": "stdout"
        }
      ]
    },
    {
      "cell_type": "markdown",
      "metadata": {
        "id": "S_wNgSQrDnqH"
      },
      "source": [
        "### Standard Imports"
      ]
    },
    {
      "cell_type": "code",
      "metadata": {
        "ExecuteTime": {
          "end_time": "2020-10-16T15:08:01.975360Z",
          "start_time": "2020-10-16T15:08:01.326791Z"
        },
        "id": "KwESkecNDnqK"
      },
      "source": [
        "import os\n",
        "import pandas as pd\n",
        "import numpy as np\n",
        "import seaborn as sns\n",
        "import requests\n",
        "\n",
        "import matplotlib.pyplot as plt"
      ],
      "execution_count": 3,
      "outputs": []
    },
    {
      "cell_type": "markdown",
      "metadata": {
        "ExecuteTime": {
          "end_time": "2020-10-16T15:08:01.975360Z",
          "start_time": "2020-10-16T15:08:01.326791Z"
        },
        "id": "titAMjiCDnqX"
      },
      "source": [
        "### Credentials Setup and Package imports"
      ]
    },
    {
      "cell_type": "markdown",
      "metadata": {
        "id": "bnSqb7pda1R2"
      },
      "source": [
        "Getting demo credentials from S3. To access BigQuery, a service account JSON credentials file must be obtained. Running the `cmap.config.setup_credentials(credentials_path)` function will point the toolkit to the credentials connected to your Google Account. \n",
        "\n",
        "More information about service accounts are available here: [Getting started with authentication](https://cloud.google.com/docs/authentication/getting-started)"
      ]
    },
    {
      "cell_type": "code",
      "metadata": {
        "id": "U4lQS63voy4C",
        "colab": {
          "base_uri": "https://localhost:8080/",
          "height": 54
        },
        "outputId": "bcb4ee96-e764-4018-9b12-a4cd4eff8d12"
      },
      "source": [
        "\"\"\" Delete line if without Google Cloud credentials\n",
        "\n",
        "import requests\n",
        "\n",
        "# URL with credentials\n",
        "url = ('https://s3.amazonaws.com/data.clue.io/api/bq_creds/BQ-demo-credentials.json')\n",
        "\n",
        "response = requests.get(url)\n",
        "credentials_filepath='/content/BQ-demo-credentials.json'\n",
        "\n",
        "with open(credentials_filepath, 'w') as f:\n",
        "  f.write(response.text)\n",
        "\n",
        "\"\"\""
      ],
      "execution_count": 4,
      "outputs": [
        {
          "output_type": "execute_result",
          "data": {
            "application/vnd.google.colaboratory.intrinsic+json": {
              "type": "string"
            },
            "text/plain": [
              "\" Delete line if without Google Cloud credentials\\n\\nimport requests\\n\\n# URL with credentials\\nurl = ('https://s3.amazonaws.com/data.clue.io/api/bq_creds/BQ-demo-credentials.json')\\n\\nresponse = requests.get(url)\\ncredentials_filepath='/content/BQ-demo-credentials.json'\\n\\nwith open(credentials_filepath, 'w') as f:\\n  f.write(response.text)\\n\\n\""
            ]
          },
          "metadata": {
            "tags": []
          },
          "execution_count": 4
        }
      ]
    },
    {
      "cell_type": "markdown",
      "metadata": {
        "id": "j79uwWIsa48M"
      },
      "source": [
        "Pointing cmapBQ to credentials file"
      ]
    },
    {
      "cell_type": "code",
      "metadata": {
        "ExecuteTime": {
          "end_time": "2020-10-16T15:08:01.975360Z",
          "start_time": "2020-10-16T15:08:01.326791Z"
        },
        "id": "CtzQMe-aDnqZ",
        "colab": {
          "base_uri": "https://localhost:8080/",
          "height": 164
        },
        "outputId": "d7b7d137-7921-4891-e4b9-682cf4f780a8"
      },
      "source": [
        "import cmapBQ.query as cmap_query\n",
        "import cmapBQ.config as cmap_config\n",
        "\n",
        "credentials_filepath='/content/my-cmap-project-8881ec24d353.json'\n",
        "# Set up credentials\n",
        "cmap_config.setup_credentials(credentials_filepath)\n",
        "bq_client = cmap_config.get_bq_client()"
      ],
      "execution_count": 5,
      "outputs": [
        {
          "output_type": "stream",
          "text": [
            "GOOGLE_APPLICATION_CREDENTIALS not valid, check credentials parameter in ~/.cmapBQ/config.txt\n"
          ],
          "name": "stdout"
        },
        {
          "output_type": "error",
          "ename": "SystemExit",
          "evalue": "ignored",
          "traceback": [
            "An exception has occurred, use %tb to see the full traceback.\n",
            "\u001b[0;31mSystemExit\u001b[0m\u001b[0;31m:\u001b[0m 1\n"
          ]
        },
        {
          "output_type": "stream",
          "text": [
            "/usr/local/lib/python3.7/dist-packages/IPython/core/interactiveshell.py:2890: UserWarning: To exit: use 'exit', 'quit', or Ctrl-D.\n",
            "  warn(\"To exit: use 'exit', 'quit', or Ctrl-D.\", stacklevel=1)\n"
          ],
          "name": "stderr"
        }
      ]
    },
    {
      "cell_type": "markdown",
      "metadata": {
        "ExecuteTime": {
          "end_time": "2020-10-16T15:08:01.975360Z",
          "start_time": "2020-10-16T15:08:01.326791Z"
        },
        "id": "0gRb1ug3Dnqh"
      },
      "source": [
        "<div style=\"font-size: 10pt;line-height:30px\">\n",
        "    \n",
        "Alternative method of authentication:"
      ]
    },
    {
      "cell_type": "code",
      "metadata": {
        "ExecuteTime": {
          "end_time": "2020-10-16T15:08:01.975360Z",
          "start_time": "2020-10-16T15:08:01.326791Z"
        },
        "id": "subhwHdCDnqi"
      },
      "source": [
        "#from google.cloud import bigquery\n",
        "#os.environ['GOOGLE_APPLICATION_CREDENTIALS'] = credentials_filepath\n",
        "#bq_client = bigquery.Client()"
      ],
      "execution_count": null,
      "outputs": []
    },
    {
      "cell_type": "markdown",
      "metadata": {
        "id": "LMA5uHXtB7V8"
      },
      "source": [
        "# BigQuery Table Information"
      ]
    },
    {
      "cell_type": "markdown",
      "metadata": {
        "id": "7Erxfh69Dnqz"
      },
      "source": [
        "### The data hosted on BigQuery is organized in the following tables\n",
        "\n",
        "<div style=\"font-size: 10pt;line-height:18px;font-weight:normal\">\n",
        "    \n",
        "**compoundinfo:** <br> Metadata for all unique compounds included in the data release. Each row contains information about a unique compound such as MoA, target, etc. \n",
        "    \n",
        "**instinfo:**  <br> Sample level metadata includes information for each replicate including experimental parameters such as timepoint and dose\n",
        "\n",
        "**siginfo:**  <br> Signature (replicate collapsed) level 5 metadata. Includes experimental parameters such as timepoint and dose as well as metrics for bioactivity such as `tas` for [Transcriptional Activity Score](https://clue.io/connectopedia/signature_quality_metrics) and `cc_q75` for Replicate Correlation\n",
        "\n",
        "**L1000 Level3:**  <br> Gene expression (GEX, Level 2) are normalized to invariant gene set curves and quantile normalized across each plate. Here, the data from each perturbagen treatment is referred to as a profile, experiment, or instance. Additional values for 11,350 additional genes not directly measured in the L10000 assay are inferred based on the normalized values for the 978 landmark genes.\n",
        "\n",
        "    \n",
        "**L1000 Level4:**  <br> Z-scores for each gene based on Level 3 with respect to the entire plate population. This comparison of profiles to their appropriate population control generates a list of differentially expressed genes.\n",
        "\n",
        "**L1000 Level5:** <br> Replicate-collapsed z-score vectors based on Level 4. Replicate collapse generates one differential expression vector, which we term a signature. Connectivity analyses are performed on signatures.\n",
        "    \n",
        "**geneinfo:** <br> Metadata for gene_ids included in the data release. Each row contains mappings between gene_symbol, ensemble_id, gene_id as well as information about gene_type\n",
        "\n",
        "**cellinfo:** <br> Metadata for cell lines included in the data release. Each row contains information such as cell_iname, ccle_name or cell_lineage\n",
        "\n",
        "**genetic_pertinfo**: <br> Contains information related to genetic perturbagens such as type ['oe', 'sh', 'xpr'] and relevant gene_id, ensemble_id \n"
      ]
    },
    {
      "cell_type": "markdown",
      "metadata": {
        "id": "8H7RQUqvSpWp"
      },
      "source": [
        "# Raw SQL Queries"
      ]
    },
    {
      "cell_type": "markdown",
      "metadata": {
        "id": "59rrOYcv_08C"
      },
      "source": [
        "`cmapBQ.query.list_tables()` function will display table adresses of default tables for usage in SQL queries"
      ]
    },
    {
      "cell_type": "code",
      "metadata": {
        "id": "yCMwFJvcSn-8",
        "colab": {
          "base_uri": "https://localhost:8080/",
          "height": 334
        },
        "outputId": "fbb21b60-825e-4e96-a707-e2d2848b5d1c"
      },
      "source": [
        "import cmapBQ.query as cmap_query\n",
        "\n",
        "cmap_query.list_tables()"
      ],
      "execution_count": 1,
      "outputs": [
        {
          "output_type": "error",
          "ename": "ModuleNotFoundError",
          "evalue": "ignored",
          "traceback": [
            "\u001b[0;31m---------------------------------------------------------------------------\u001b[0m",
            "\u001b[0;31mModuleNotFoundError\u001b[0m                       Traceback (most recent call last)",
            "\u001b[0;32m<ipython-input-1-37f0fdf38401>\u001b[0m in \u001b[0;36m<module>\u001b[0;34m()\u001b[0m\n\u001b[0;32m----> 1\u001b[0;31m \u001b[0;32mimport\u001b[0m \u001b[0mcmapBQ\u001b[0m\u001b[0;34m.\u001b[0m\u001b[0mquery\u001b[0m \u001b[0;32mas\u001b[0m \u001b[0mcmap_query\u001b[0m\u001b[0;34m\u001b[0m\u001b[0;34m\u001b[0m\u001b[0m\n\u001b[0m\u001b[1;32m      2\u001b[0m \u001b[0;34m\u001b[0m\u001b[0m\n\u001b[1;32m      3\u001b[0m \u001b[0mcmap_query\u001b[0m\u001b[0;34m.\u001b[0m\u001b[0mlist_tables\u001b[0m\u001b[0;34m(\u001b[0m\u001b[0;34m)\u001b[0m\u001b[0;34m\u001b[0m\u001b[0;34m\u001b[0m\u001b[0m\n",
            "\u001b[0;31mModuleNotFoundError\u001b[0m: No module named 'cmapBQ'",
            "",
            "\u001b[0;31m---------------------------------------------------------------------------\u001b[0;32m\nNOTE: If your import is failing due to a missing package, you can\nmanually install dependencies using either !pip or !apt.\n\nTo view examples of installing some common dependencies, click the\n\"Open Examples\" button below.\n\u001b[0;31m---------------------------------------------------------------------------\u001b[0m\n"
          ]
        }
      ]
    },
    {
      "cell_type": "markdown",
      "metadata": {
        "id": "K55z8PJABDfe"
      },
      "source": [
        "Raw SQL queries can be run on the public datasets as shown below. Syntax follows that of Google Biqquery, available here: https://cloud.google.com/bigquery/docs/reference/standard-sql/query-syntax"
      ]
    },
    {
      "cell_type": "markdown",
      "metadata": {
        "id": "VwHW62U7Z1bT"
      },
      "source": [
        "### Example SQL Query "
      ]
    },
    {
      "cell_type": "code",
      "metadata": {
        "id": "zCD_qgt4__T4"
      },
      "source": [
        "## This query may take up to a minute\n",
        "query = \"SELECT COUNT(DISTINCT(cid)) as num_level5_sigs FROM cmap-big-table.cmap_lincs_public_views.L1000_Level5\"\n",
        "\n",
        "cmap_query.run_query(query=query, client=bq_client).result().to_dataframe()"
      ],
      "execution_count": null,
      "outputs": []
    },
    {
      "cell_type": "markdown",
      "metadata": {
        "id": "0jYyUZ2N_wqa"
      },
      "source": [
        "# cmapBQ Utilities"
      ]
    },
    {
      "cell_type": "markdown",
      "metadata": {
        "id": "qoPGexcRBv-I"
      },
      "source": [
        "`cmapBQ` provides a multitude of utility functions to survey and retrieve data hosted on BigQuery. Below we will demonstrate a workflow for finding and analyzing data pertaining to an MoA of interest as an example."
      ]
    },
    {
      "cell_type": "markdown",
      "metadata": {
        "id": "erfU4Fniqhwx"
      },
      "source": [
        "# Get Table Schema Information"
      ]
    },
    {
      "cell_type": "code",
      "metadata": {
        "id": "Z_HpGVk5qbok",
        "colab": {
          "base_uri": "https://localhost:8080/"
        },
        "outputId": "519b155e-7baa-44d2-99ce-5d3bc2ba8417"
      },
      "source": [
        "cmap_query.list_tables()"
      ],
      "execution_count": null,
      "outputs": [
        {
          "output_type": "stream",
          "text": [
            "_includes_clustered_tables: <bound method TableDirectory._includes_clustered_tables of TableDirectory(compoundinfo='cmap-big-table.cmap_lincs_public_views.compoundinfo', genetic_pertinfo='cmap-big-table.cmap_lincs_public_views.genetic_pertinfo', geneinfo='cmap-big-table.cmap_lincs_public_views.geneinfo', cellinfo='cmap-big-table.cmap_lincs_public_views.cellinfo', instinfo='cmap-big-table.cmap_lincs_public_views.instinfo', siginfo='cmap-big-table.cmap_lincs_public_views.siginfo', level3='cmap-big-table.cmap_lincs_public_views.L1000_Level3_cid', level3_rid='cmap-big-table.cmap_lincs_public_views.L1000_Level3_rid', level3_landmark='cmap-big-table.cmap_lincs_public_views.L1000_Level3_landmark', level4='cmap-big-table.cmap_lincs_public_views.L1000_Level4_cid', level4_rid='cmap-big-table.cmap_lincs_public_views.L1000_Level4_rid', level4_landmark='cmap-big-table.cmap_lincs_public_views.L1000_Level4_landmark', level5='cmap-big-table.cmap_lincs_public_views.L1000_Level5_cid', level5_rid='cmap-big-table.cmap_lincs_public_views.L1000_Level5_rid', level5_landmark='cmap-big-table.cmap_lincs_public_views.L1000_Level5_landmark')>\n",
            "cellinfo: cmap-big-table.cmap_lincs_public_views.cellinfo\n",
            "compoundinfo: cmap-big-table.cmap_lincs_public_views.compoundinfo\n",
            "geneinfo: cmap-big-table.cmap_lincs_public_views.geneinfo\n",
            "genetic_pertinfo: cmap-big-table.cmap_lincs_public_views.genetic_pertinfo\n",
            "instinfo: cmap-big-table.cmap_lincs_public_views.instinfo\n",
            "level3: cmap-big-table.cmap_lincs_public_views.L1000_Level3_cid\n",
            "level3_landmark: cmap-big-table.cmap_lincs_public_views.L1000_Level3_landmark\n",
            "level3_rid: cmap-big-table.cmap_lincs_public_views.L1000_Level3_rid\n",
            "level4: cmap-big-table.cmap_lincs_public_views.L1000_Level4_cid\n",
            "level4_landmark: cmap-big-table.cmap_lincs_public_views.L1000_Level4_landmark\n",
            "level4_rid: cmap-big-table.cmap_lincs_public_views.L1000_Level4_rid\n",
            "level5: cmap-big-table.cmap_lincs_public_views.L1000_Level5_cid\n",
            "level5_landmark: cmap-big-table.cmap_lincs_public_views.L1000_Level5_landmark\n",
            "level5_rid: cmap-big-table.cmap_lincs_public_views.L1000_Level5_rid\n",
            "siginfo: cmap-big-table.cmap_lincs_public_views.siginfo\n"
          ],
          "name": "stdout"
        }
      ]
    },
    {
      "cell_type": "code",
      "metadata": {
        "id": "KWn3W1dsqTUQ",
        "colab": {
          "base_uri": "https://localhost:8080/",
          "height": 266
        },
        "outputId": "270963db-ed58-46bf-e619-f8c88f7b9f32"
      },
      "source": [
        "cmap_query.get_table_info(bq_client, 'cmap-big-table.cmap_lincs_public_views.compoundinfo') \n",
        "cmap_query.list_cmap_compounds(bq_client)\n"
      ],
      "execution_count": null,
      "outputs": [
        {
          "output_type": "execute_result",
          "data": {
            "text/html": [
              "<div>\n",
              "<style scoped>\n",
              "    .dataframe tbody tr th:only-of-type {\n",
              "        vertical-align: middle;\n",
              "    }\n",
              "\n",
              "    .dataframe tbody tr th {\n",
              "        vertical-align: top;\n",
              "    }\n",
              "\n",
              "    .dataframe thead th {\n",
              "        text-align: right;\n",
              "    }\n",
              "</style>\n",
              "<table border=\"1\" class=\"dataframe\">\n",
              "  <thead>\n",
              "    <tr style=\"text-align: right;\">\n",
              "      <th></th>\n",
              "      <th>column_name</th>\n",
              "      <th>data_type</th>\n",
              "    </tr>\n",
              "  </thead>\n",
              "  <tbody>\n",
              "    <tr>\n",
              "      <th>0</th>\n",
              "      <td>pert_id</td>\n",
              "      <td>STRING</td>\n",
              "    </tr>\n",
              "    <tr>\n",
              "      <th>1</th>\n",
              "      <td>cmap_name</td>\n",
              "      <td>STRING</td>\n",
              "    </tr>\n",
              "    <tr>\n",
              "      <th>2</th>\n",
              "      <td>target</td>\n",
              "      <td>STRING</td>\n",
              "    </tr>\n",
              "    <tr>\n",
              "      <th>3</th>\n",
              "      <td>moa</td>\n",
              "      <td>STRING</td>\n",
              "    </tr>\n",
              "    <tr>\n",
              "      <th>4</th>\n",
              "      <td>canonical_smiles</td>\n",
              "      <td>STRING</td>\n",
              "    </tr>\n",
              "    <tr>\n",
              "      <th>5</th>\n",
              "      <td>inchi_key</td>\n",
              "      <td>STRING</td>\n",
              "    </tr>\n",
              "    <tr>\n",
              "      <th>6</th>\n",
              "      <td>compound_aliases</td>\n",
              "      <td>STRING</td>\n",
              "    </tr>\n",
              "  </tbody>\n",
              "</table>\n",
              "</div>"
            ],
            "text/plain": [
              "        column_name data_type\n",
              "0           pert_id    STRING\n",
              "1         cmap_name    STRING\n",
              "2            target    STRING\n",
              "3               moa    STRING\n",
              "4  canonical_smiles    STRING\n",
              "5         inchi_key    STRING\n",
              "6  compound_aliases    STRING"
            ]
          },
          "metadata": {
            "tags": []
          },
          "execution_count": 5
        }
      ]
    },
    {
      "cell_type": "code",
      "metadata": {
        "colab": {
          "base_uri": "https://localhost:8080/",
          "height": 1000
        },
        "id": "AJzF_Q9fqlsI",
        "outputId": "5984c148-ee2e-4a8a-e52f-6a548319757a"
      },
      "source": [
        "cmap_query.get_table_info(bq_client, 'cmap-big-table.cmap_lincs_public_views.siginfo')\n",
        "# there is sig_id, which is the unique key we need to extract needed perturbagens/(drug, cell line combinations)\n",
        "# The logic to get data is: "
      ],
      "execution_count": null,
      "outputs": [
        {
          "output_type": "execute_result",
          "data": {
            "text/html": [
              "<div>\n",
              "<style scoped>\n",
              "    .dataframe tbody tr th:only-of-type {\n",
              "        vertical-align: middle;\n",
              "    }\n",
              "\n",
              "    .dataframe tbody tr th {\n",
              "        vertical-align: top;\n",
              "    }\n",
              "\n",
              "    .dataframe thead th {\n",
              "        text-align: right;\n",
              "    }\n",
              "</style>\n",
              "<table border=\"1\" class=\"dataframe\">\n",
              "  <thead>\n",
              "    <tr style=\"text-align: right;\">\n",
              "      <th></th>\n",
              "      <th>column_name</th>\n",
              "      <th>data_type</th>\n",
              "    </tr>\n",
              "  </thead>\n",
              "  <tbody>\n",
              "    <tr>\n",
              "      <th>0</th>\n",
              "      <td>bead_batch</td>\n",
              "      <td>STRING</td>\n",
              "    </tr>\n",
              "    <tr>\n",
              "      <th>1</th>\n",
              "      <td>nearest_dose</td>\n",
              "      <td>FLOAT64</td>\n",
              "    </tr>\n",
              "    <tr>\n",
              "      <th>2</th>\n",
              "      <td>pert_dose</td>\n",
              "      <td>FLOAT64</td>\n",
              "    </tr>\n",
              "    <tr>\n",
              "      <th>3</th>\n",
              "      <td>pert_dose_unit</td>\n",
              "      <td>STRING</td>\n",
              "    </tr>\n",
              "    <tr>\n",
              "      <th>4</th>\n",
              "      <td>pert_idose</td>\n",
              "      <td>STRING</td>\n",
              "    </tr>\n",
              "    <tr>\n",
              "      <th>5</th>\n",
              "      <td>pert_itime</td>\n",
              "      <td>STRING</td>\n",
              "    </tr>\n",
              "    <tr>\n",
              "      <th>6</th>\n",
              "      <td>pert_time</td>\n",
              "      <td>FLOAT64</td>\n",
              "    </tr>\n",
              "    <tr>\n",
              "      <th>7</th>\n",
              "      <td>pert_time_unit</td>\n",
              "      <td>STRING</td>\n",
              "    </tr>\n",
              "    <tr>\n",
              "      <th>8</th>\n",
              "      <td>cell_mfc_name</td>\n",
              "      <td>STRING</td>\n",
              "    </tr>\n",
              "    <tr>\n",
              "      <th>9</th>\n",
              "      <td>pert_mfc_id</td>\n",
              "      <td>STRING</td>\n",
              "    </tr>\n",
              "    <tr>\n",
              "      <th>10</th>\n",
              "      <td>nsample</td>\n",
              "      <td>INT64</td>\n",
              "    </tr>\n",
              "    <tr>\n",
              "      <th>11</th>\n",
              "      <td>cc_q75</td>\n",
              "      <td>FLOAT64</td>\n",
              "    </tr>\n",
              "    <tr>\n",
              "      <th>12</th>\n",
              "      <td>ss_ngene</td>\n",
              "      <td>INT64</td>\n",
              "    </tr>\n",
              "    <tr>\n",
              "      <th>13</th>\n",
              "      <td>tas</td>\n",
              "      <td>FLOAT64</td>\n",
              "    </tr>\n",
              "    <tr>\n",
              "      <th>14</th>\n",
              "      <td>pct_self_rank_q25</td>\n",
              "      <td>FLOAT64</td>\n",
              "    </tr>\n",
              "    <tr>\n",
              "      <th>15</th>\n",
              "      <td>wt</td>\n",
              "      <td>STRING</td>\n",
              "    </tr>\n",
              "    <tr>\n",
              "      <th>16</th>\n",
              "      <td>median_recall_rank_spearman</td>\n",
              "      <td>FLOAT64</td>\n",
              "    </tr>\n",
              "    <tr>\n",
              "      <th>17</th>\n",
              "      <td>median_recall_rank_wtcs_50</td>\n",
              "      <td>FLOAT64</td>\n",
              "    </tr>\n",
              "    <tr>\n",
              "      <th>18</th>\n",
              "      <td>median_recall_score_spearman</td>\n",
              "      <td>FLOAT64</td>\n",
              "    </tr>\n",
              "    <tr>\n",
              "      <th>19</th>\n",
              "      <td>median_recall_score_wtcs_50</td>\n",
              "      <td>FLOAT64</td>\n",
              "    </tr>\n",
              "    <tr>\n",
              "      <th>20</th>\n",
              "      <td>batch_effect_tstat</td>\n",
              "      <td>FLOAT64</td>\n",
              "    </tr>\n",
              "    <tr>\n",
              "      <th>21</th>\n",
              "      <td>batch_effect_tstat_pct</td>\n",
              "      <td>FLOAT64</td>\n",
              "    </tr>\n",
              "    <tr>\n",
              "      <th>22</th>\n",
              "      <td>is_hiq</td>\n",
              "      <td>INT64</td>\n",
              "    </tr>\n",
              "    <tr>\n",
              "      <th>23</th>\n",
              "      <td>qc_pass</td>\n",
              "      <td>INT64</td>\n",
              "    </tr>\n",
              "    <tr>\n",
              "      <th>24</th>\n",
              "      <td>pert_id</td>\n",
              "      <td>STRING</td>\n",
              "    </tr>\n",
              "    <tr>\n",
              "      <th>25</th>\n",
              "      <td>sig_id</td>\n",
              "      <td>STRING</td>\n",
              "    </tr>\n",
              "    <tr>\n",
              "      <th>26</th>\n",
              "      <td>pert_type</td>\n",
              "      <td>STRING</td>\n",
              "    </tr>\n",
              "    <tr>\n",
              "      <th>27</th>\n",
              "      <td>cell_iname</td>\n",
              "      <td>STRING</td>\n",
              "    </tr>\n",
              "    <tr>\n",
              "      <th>28</th>\n",
              "      <td>id</td>\n",
              "      <td>INT64</td>\n",
              "    </tr>\n",
              "    <tr>\n",
              "      <th>29</th>\n",
              "      <td>det_wells</td>\n",
              "      <td>STRING</td>\n",
              "    </tr>\n",
              "    <tr>\n",
              "      <th>30</th>\n",
              "      <td>det_plates</td>\n",
              "      <td>STRING</td>\n",
              "    </tr>\n",
              "    <tr>\n",
              "      <th>31</th>\n",
              "      <td>distil_ids</td>\n",
              "      <td>STRING</td>\n",
              "    </tr>\n",
              "    <tr>\n",
              "      <th>32</th>\n",
              "      <td>build_name</td>\n",
              "      <td>STRING</td>\n",
              "    </tr>\n",
              "    <tr>\n",
              "      <th>33</th>\n",
              "      <td>project_code</td>\n",
              "      <td>STRING</td>\n",
              "    </tr>\n",
              "    <tr>\n",
              "      <th>34</th>\n",
              "      <td>cmap_name</td>\n",
              "      <td>STRING</td>\n",
              "    </tr>\n",
              "    <tr>\n",
              "      <th>35</th>\n",
              "      <td>is_ncs_exemplar</td>\n",
              "      <td>INT64</td>\n",
              "    </tr>\n",
              "  </tbody>\n",
              "</table>\n",
              "</div>"
            ],
            "text/plain": [
              "                     column_name data_type\n",
              "0                     bead_batch    STRING\n",
              "1                   nearest_dose   FLOAT64\n",
              "2                      pert_dose   FLOAT64\n",
              "3                 pert_dose_unit    STRING\n",
              "4                     pert_idose    STRING\n",
              "5                     pert_itime    STRING\n",
              "6                      pert_time   FLOAT64\n",
              "7                 pert_time_unit    STRING\n",
              "8                  cell_mfc_name    STRING\n",
              "9                    pert_mfc_id    STRING\n",
              "10                       nsample     INT64\n",
              "11                        cc_q75   FLOAT64\n",
              "12                      ss_ngene     INT64\n",
              "13                           tas   FLOAT64\n",
              "14             pct_self_rank_q25   FLOAT64\n",
              "15                            wt    STRING\n",
              "16   median_recall_rank_spearman   FLOAT64\n",
              "17    median_recall_rank_wtcs_50   FLOAT64\n",
              "18  median_recall_score_spearman   FLOAT64\n",
              "19   median_recall_score_wtcs_50   FLOAT64\n",
              "20            batch_effect_tstat   FLOAT64\n",
              "21        batch_effect_tstat_pct   FLOAT64\n",
              "22                        is_hiq     INT64\n",
              "23                       qc_pass     INT64\n",
              "24                       pert_id    STRING\n",
              "25                        sig_id    STRING\n",
              "26                     pert_type    STRING\n",
              "27                    cell_iname    STRING\n",
              "28                            id     INT64\n",
              "29                     det_wells    STRING\n",
              "30                    det_plates    STRING\n",
              "31                    distil_ids    STRING\n",
              "32                    build_name    STRING\n",
              "33                  project_code    STRING\n",
              "34                     cmap_name    STRING\n",
              "35               is_ncs_exemplar     INT64"
            ]
          },
          "metadata": {
            "tags": []
          },
          "execution_count": 6
        }
      ]
    },
    {
      "cell_type": "code",
      "metadata": {
        "id": "6YX86nYvo5p4",
        "colab": {
          "base_uri": "https://localhost:8080/",
          "height": 142
        },
        "outputId": "c1f90473-1411-4581-96bf-287c483af006"
      },
      "source": [
        "cmap_query.get_table_info(bq_client, 'cmap-big-table.cmap_lincs_public_views.L1000_Level5_cid') "
      ],
      "execution_count": null,
      "outputs": [
        {
          "output_type": "execute_result",
          "data": {
            "text/html": [
              "<div>\n",
              "<style scoped>\n",
              "    .dataframe tbody tr th:only-of-type {\n",
              "        vertical-align: middle;\n",
              "    }\n",
              "\n",
              "    .dataframe tbody tr th {\n",
              "        vertical-align: top;\n",
              "    }\n",
              "\n",
              "    .dataframe thead th {\n",
              "        text-align: right;\n",
              "    }\n",
              "</style>\n",
              "<table border=\"1\" class=\"dataframe\">\n",
              "  <thead>\n",
              "    <tr style=\"text-align: right;\">\n",
              "      <th></th>\n",
              "      <th>column_name</th>\n",
              "      <th>data_type</th>\n",
              "    </tr>\n",
              "  </thead>\n",
              "  <tbody>\n",
              "    <tr>\n",
              "      <th>0</th>\n",
              "      <td>cid</td>\n",
              "      <td>STRING</td>\n",
              "    </tr>\n",
              "    <tr>\n",
              "      <th>1</th>\n",
              "      <td>rid</td>\n",
              "      <td>STRING</td>\n",
              "    </tr>\n",
              "    <tr>\n",
              "      <th>2</th>\n",
              "      <td>value</td>\n",
              "      <td>FLOAT64</td>\n",
              "    </tr>\n",
              "  </tbody>\n",
              "</table>\n",
              "</div>"
            ],
            "text/plain": [
              "  column_name data_type\n",
              "0         cid    STRING\n",
              "1         rid    STRING\n",
              "2       value   FLOAT64"
            ]
          },
          "metadata": {
            "tags": []
          },
          "execution_count": 14
        }
      ]
    },
    {
      "cell_type": "code",
      "metadata": {
        "id": "oQPtEl8axOsb"
      },
      "source": [
        "config = cmap_config.get_default_config()\n",
        "compoundinfo_table = config.tables.compoundinfo\n",
        "\n",
        "QUERY = ( 'SELECT moa, ' \n",
        "'COUNT(DISTINCT(pert_id)) AS count ' \n",
        "'FROM `{}` ' \n",
        "'GROUP BY moa')\n",
        "\n",
        "QUERY = QUERY.format(compoundinfo_table)\n",
        "cmap_query.run_query(bq_client, QUERY).result().to_dataframe()"
      ],
      "execution_count": null,
      "outputs": []
    },
    {
      "cell_type": "code",
      "metadata": {
        "id": "V4IQ43PmNfwx",
        "colab": {
          "base_uri": "https://localhost:8080/",
          "height": 419
        },
        "outputId": "a5310271-d4a3-418a-b237-45058c9803d6"
      },
      "source": [
        "cmap_query.list_cmap_compounds(bq_client)"
      ],
      "execution_count": null,
      "outputs": [
        {
          "output_type": "execute_result",
          "data": {
            "text/html": [
              "<div>\n",
              "<style scoped>\n",
              "    .dataframe tbody tr th:only-of-type {\n",
              "        vertical-align: middle;\n",
              "    }\n",
              "\n",
              "    .dataframe tbody tr th {\n",
              "        vertical-align: top;\n",
              "    }\n",
              "\n",
              "    .dataframe thead th {\n",
              "        text-align: right;\n",
              "    }\n",
              "</style>\n",
              "<table border=\"1\" class=\"dataframe\">\n",
              "  <thead>\n",
              "    <tr style=\"text-align: right;\">\n",
              "      <th></th>\n",
              "      <th>cmap_name</th>\n",
              "    </tr>\n",
              "  </thead>\n",
              "  <tbody>\n",
              "    <tr>\n",
              "      <th>0</th>\n",
              "      <td>L-theanine</td>\n",
              "    </tr>\n",
              "    <tr>\n",
              "      <th>1</th>\n",
              "      <td>L-citrulline</td>\n",
              "    </tr>\n",
              "    <tr>\n",
              "      <th>2</th>\n",
              "      <td>BRD-A18795974</td>\n",
              "    </tr>\n",
              "    <tr>\n",
              "      <th>3</th>\n",
              "      <td>BRD-A27924917</td>\n",
              "    </tr>\n",
              "    <tr>\n",
              "      <th>4</th>\n",
              "      <td>BRD-A35931254</td>\n",
              "    </tr>\n",
              "    <tr>\n",
              "      <th>...</th>\n",
              "      <td>...</td>\n",
              "    </tr>\n",
              "    <tr>\n",
              "      <th>33622</th>\n",
              "      <td>TAS-301</td>\n",
              "    </tr>\n",
              "    <tr>\n",
              "      <th>33623</th>\n",
              "      <td>goserelin-acetate</td>\n",
              "    </tr>\n",
              "    <tr>\n",
              "      <th>33624</th>\n",
              "      <td>triptorelin</td>\n",
              "    </tr>\n",
              "    <tr>\n",
              "      <th>33625</th>\n",
              "      <td>T-98475</td>\n",
              "    </tr>\n",
              "    <tr>\n",
              "      <th>33626</th>\n",
              "      <td>benzoic-acid</td>\n",
              "    </tr>\n",
              "  </tbody>\n",
              "</table>\n",
              "<p>33627 rows × 1 columns</p>\n",
              "</div>"
            ],
            "text/plain": [
              "               cmap_name\n",
              "0             L-theanine\n",
              "1           L-citrulline\n",
              "2          BRD-A18795974\n",
              "3          BRD-A27924917\n",
              "4          BRD-A35931254\n",
              "...                  ...\n",
              "33622            TAS-301\n",
              "33623  goserelin-acetate\n",
              "33624        triptorelin\n",
              "33625            T-98475\n",
              "33626       benzoic-acid\n",
              "\n",
              "[33627 rows x 1 columns]"
            ]
          },
          "metadata": {
            "tags": []
          },
          "execution_count": 8
        }
      ]
    },
    {
      "cell_type": "markdown",
      "metadata": {
        "id": "XEN8Xl8RcT6T"
      },
      "source": [
        "### Metadata at a glance"
      ]
    },
    {
      "cell_type": "code",
      "metadata": {
        "ExecuteTime": {
          "end_time": "2020-10-16T15:10:36.592241Z",
          "start_time": "2020-10-16T15:08:01.976661Z"
        },
        "scrolled": true,
        "id": "FjCH2S9JDnq0",
        "colab": {
          "base_uri": "https://localhost:8080/",
          "height": 821
        },
        "outputId": "8e213604-9940-4559-9704-b1304e8b1b1e"
      },
      "source": [
        "moas = cmap_query.list_cmap_moas(bq_client)\n",
        "display(moas)\n",
        "cmap_query.list_cmap_compounds(bq_client)"
      ],
      "execution_count": null,
      "outputs": [
        {
          "output_type": "display_data",
          "data": {
            "text/html": [
              "<div>\n",
              "<style scoped>\n",
              "    .dataframe tbody tr th:only-of-type {\n",
              "        vertical-align: middle;\n",
              "    }\n",
              "\n",
              "    .dataframe tbody tr th {\n",
              "        vertical-align: top;\n",
              "    }\n",
              "\n",
              "    .dataframe thead th {\n",
              "        text-align: right;\n",
              "    }\n",
              "</style>\n",
              "<table border=\"1\" class=\"dataframe\">\n",
              "  <thead>\n",
              "    <tr style=\"text-align: right;\">\n",
              "      <th></th>\n",
              "      <th>moa</th>\n",
              "      <th>count</th>\n",
              "    </tr>\n",
              "  </thead>\n",
              "  <tbody>\n",
              "    <tr>\n",
              "      <th>0</th>\n",
              "      <td>None</td>\n",
              "      <td>31262</td>\n",
              "    </tr>\n",
              "    <tr>\n",
              "      <th>1</th>\n",
              "      <td>CAR agonist</td>\n",
              "      <td>2</td>\n",
              "    </tr>\n",
              "    <tr>\n",
              "      <th>2</th>\n",
              "      <td>ALK inhibitor</td>\n",
              "      <td>7</td>\n",
              "    </tr>\n",
              "    <tr>\n",
              "      <th>3</th>\n",
              "      <td>Akt inhibitor</td>\n",
              "      <td>13</td>\n",
              "    </tr>\n",
              "    <tr>\n",
              "      <th>4</th>\n",
              "      <td>BCL inhibitor</td>\n",
              "      <td>11</td>\n",
              "    </tr>\n",
              "    <tr>\n",
              "      <th>...</th>\n",
              "      <td>...</td>\n",
              "      <td>...</td>\n",
              "    </tr>\n",
              "    <tr>\n",
              "      <th>653</th>\n",
              "      <td>Telomerase reverse transcriptase expression in...</td>\n",
              "      <td>1</td>\n",
              "    </tr>\n",
              "    <tr>\n",
              "      <th>654</th>\n",
              "      <td>Gonadotropin releasing factor hormone receptor...</td>\n",
              "      <td>2</td>\n",
              "    </tr>\n",
              "    <tr>\n",
              "      <th>655</th>\n",
              "      <td>Gonadotropin releasing factor hormone receptor...</td>\n",
              "      <td>1</td>\n",
              "    </tr>\n",
              "    <tr>\n",
              "      <th>656</th>\n",
              "      <td>Precursor for food preservatives, plasticizers...</td>\n",
              "      <td>1</td>\n",
              "    </tr>\n",
              "    <tr>\n",
              "      <th>657</th>\n",
              "      <td>Binding of RNA helicase A to the transcription...</td>\n",
              "      <td>1</td>\n",
              "    </tr>\n",
              "  </tbody>\n",
              "</table>\n",
              "<p>658 rows × 2 columns</p>\n",
              "</div>"
            ],
            "text/plain": [
              "                                                   moa  count\n",
              "0                                                 None  31262\n",
              "1                                          CAR agonist      2\n",
              "2                                        ALK inhibitor      7\n",
              "3                                        Akt inhibitor     13\n",
              "4                                        BCL inhibitor     11\n",
              "..                                                 ...    ...\n",
              "653  Telomerase reverse transcriptase expression in...      1\n",
              "654  Gonadotropin releasing factor hormone receptor...      2\n",
              "655  Gonadotropin releasing factor hormone receptor...      1\n",
              "656  Precursor for food preservatives, plasticizers...      1\n",
              "657  Binding of RNA helicase A to the transcription...      1\n",
              "\n",
              "[658 rows x 2 columns]"
            ]
          },
          "metadata": {
            "tags": []
          }
        },
        {
          "output_type": "execute_result",
          "data": {
            "text/html": [
              "<div>\n",
              "<style scoped>\n",
              "    .dataframe tbody tr th:only-of-type {\n",
              "        vertical-align: middle;\n",
              "    }\n",
              "\n",
              "    .dataframe tbody tr th {\n",
              "        vertical-align: top;\n",
              "    }\n",
              "\n",
              "    .dataframe thead th {\n",
              "        text-align: right;\n",
              "    }\n",
              "</style>\n",
              "<table border=\"1\" class=\"dataframe\">\n",
              "  <thead>\n",
              "    <tr style=\"text-align: right;\">\n",
              "      <th></th>\n",
              "      <th>cmap_name</th>\n",
              "    </tr>\n",
              "  </thead>\n",
              "  <tbody>\n",
              "    <tr>\n",
              "      <th>0</th>\n",
              "      <td>L-theanine</td>\n",
              "    </tr>\n",
              "    <tr>\n",
              "      <th>1</th>\n",
              "      <td>L-citrulline</td>\n",
              "    </tr>\n",
              "    <tr>\n",
              "      <th>2</th>\n",
              "      <td>BRD-A18795974</td>\n",
              "    </tr>\n",
              "    <tr>\n",
              "      <th>3</th>\n",
              "      <td>BRD-A27924917</td>\n",
              "    </tr>\n",
              "    <tr>\n",
              "      <th>4</th>\n",
              "      <td>BRD-A35931254</td>\n",
              "    </tr>\n",
              "    <tr>\n",
              "      <th>...</th>\n",
              "      <td>...</td>\n",
              "    </tr>\n",
              "    <tr>\n",
              "      <th>33622</th>\n",
              "      <td>TAS-301</td>\n",
              "    </tr>\n",
              "    <tr>\n",
              "      <th>33623</th>\n",
              "      <td>goserelin-acetate</td>\n",
              "    </tr>\n",
              "    <tr>\n",
              "      <th>33624</th>\n",
              "      <td>triptorelin</td>\n",
              "    </tr>\n",
              "    <tr>\n",
              "      <th>33625</th>\n",
              "      <td>T-98475</td>\n",
              "    </tr>\n",
              "    <tr>\n",
              "      <th>33626</th>\n",
              "      <td>benzoic-acid</td>\n",
              "    </tr>\n",
              "  </tbody>\n",
              "</table>\n",
              "<p>33627 rows × 1 columns</p>\n",
              "</div>"
            ],
            "text/plain": [
              "               cmap_name\n",
              "0             L-theanine\n",
              "1           L-citrulline\n",
              "2          BRD-A18795974\n",
              "3          BRD-A27924917\n",
              "4          BRD-A35931254\n",
              "...                  ...\n",
              "33622            TAS-301\n",
              "33623  goserelin-acetate\n",
              "33624        triptorelin\n",
              "33625            T-98475\n",
              "33626       benzoic-acid\n",
              "\n",
              "[33627 rows x 1 columns]"
            ]
          },
          "metadata": {
            "tags": []
          },
          "execution_count": 7
        }
      ]
    },
    {
      "cell_type": "code",
      "metadata": {
        "id": "VaUtgmHPeI2o"
      },
      "source": [
        "targets = cmap_query.list_cmap_targets(bq_client)\n",
        "display(targets.sort_values('count'))"
      ],
      "execution_count": null,
      "outputs": []
    },
    {
      "cell_type": "code",
      "metadata": {
        "id": "UrFc4KJKeSpS",
        "colab": {
          "base_uri": "https://localhost:8080/",
          "height": 232
        },
        "outputId": "d4f2edab-34cc-4ee4-8e29-d0a2be8219d6"
      },
      "source": [
        "display(\n",
        "    moas[moas['moa'].str.contains('Glucocorticoid receptor agonist', na=False)]\n",
        ")\n",
        "display(\n",
        "    targets[targets['target'].str.contains('EGFR', na=False)]\n",
        ")"
      ],
      "execution_count": null,
      "outputs": [
        {
          "output_type": "error",
          "ename": "NameError",
          "evalue": "ignored",
          "traceback": [
            "\u001b[0;31m---------------------------------------------------------------------------\u001b[0m",
            "\u001b[0;31mNameError\u001b[0m                                 Traceback (most recent call last)",
            "\u001b[0;32m<ipython-input-5-d25c1220ce04>\u001b[0m in \u001b[0;36m<module>\u001b[0;34m()\u001b[0m\n\u001b[1;32m      1\u001b[0m display(\n\u001b[0;32m----> 2\u001b[0;31m     \u001b[0mmoas\u001b[0m\u001b[0;34m[\u001b[0m\u001b[0mmoas\u001b[0m\u001b[0;34m[\u001b[0m\u001b[0;34m'moa'\u001b[0m\u001b[0;34m]\u001b[0m\u001b[0;34m.\u001b[0m\u001b[0mstr\u001b[0m\u001b[0;34m.\u001b[0m\u001b[0mcontains\u001b[0m\u001b[0;34m(\u001b[0m\u001b[0;34m'Glucocorticoid receptor agonist'\u001b[0m\u001b[0;34m,\u001b[0m \u001b[0mna\u001b[0m\u001b[0;34m=\u001b[0m\u001b[0;32mFalse\u001b[0m\u001b[0;34m)\u001b[0m\u001b[0;34m]\u001b[0m\u001b[0;34m\u001b[0m\u001b[0;34m\u001b[0m\u001b[0m\n\u001b[0m\u001b[1;32m      3\u001b[0m )\n\u001b[1;32m      4\u001b[0m display(\n\u001b[1;32m      5\u001b[0m     \u001b[0mtargets\u001b[0m\u001b[0;34m[\u001b[0m\u001b[0mtargets\u001b[0m\u001b[0;34m[\u001b[0m\u001b[0;34m'target'\u001b[0m\u001b[0;34m]\u001b[0m\u001b[0;34m.\u001b[0m\u001b[0mstr\u001b[0m\u001b[0;34m.\u001b[0m\u001b[0mcontains\u001b[0m\u001b[0;34m(\u001b[0m\u001b[0;34m'EGFR'\u001b[0m\u001b[0;34m,\u001b[0m \u001b[0mna\u001b[0m\u001b[0;34m=\u001b[0m\u001b[0;32mFalse\u001b[0m\u001b[0;34m)\u001b[0m\u001b[0;34m]\u001b[0m\u001b[0;34m\u001b[0m\u001b[0;34m\u001b[0m\u001b[0m\n",
            "\u001b[0;31mNameError\u001b[0m: name 'moas' is not defined"
          ]
        }
      ]
    },
    {
      "cell_type": "markdown",
      "metadata": {
        "id": "NreWAYjlYPUQ"
      },
      "source": [
        "# Analysis 1 - Comparison of MoA concordance across various cell lines"
      ]
    },
    {
      "cell_type": "markdown",
      "metadata": {
        "id": "OIUh2yzkCEvz"
      },
      "source": [
        "## Compound Information Table"
      ]
    },
    {
      "cell_type": "markdown",
      "metadata": {
        "id": "j2JpkD_2DnrV"
      },
      "source": [
        "<div style=\"font-size: 12pt;line-height:20px\">\n",
        "\n",
        "If the desired target or MoA is present, we can then query the compound table to get information about what compounds may relate to that MoA"
      ]
    },
    {
      "cell_type": "code",
      "metadata": {
        "ExecuteTime": {
          "end_time": "2020-10-16T15:10:38.777966Z",
          "start_time": "2020-10-16T15:10:36.594280Z"
        },
        "id": "pi2PFOV7Dnq7",
        "colab": {
          "base_uri": "https://localhost:8080/",
          "height": 359
        },
        "outputId": "690e8755-5e14-4bbf-f867-85cfdaa540b3"
      },
      "source": [
        "#moa = 'Glucocorticoid receptor agonist'\n",
        "#moa = 'EGFR inhibitor'\n",
        "\n",
        "#moa compound info\n",
        "#moa_cpinfo = cmap_query.cmap_compounds(client=bq_client,\n",
        "  moa=moa, \n",
        "  #verbose=True,\n",
        ")\n",
        "moa_cpinfo.sample(10)"
      ],
      "execution_count": null,
      "outputs": [
        {
          "output_type": "execute_result",
          "data": {
            "text/html": [
              "<div>\n",
              "<style scoped>\n",
              "    .dataframe tbody tr th:only-of-type {\n",
              "        vertical-align: middle;\n",
              "    }\n",
              "\n",
              "    .dataframe tbody tr th {\n",
              "        vertical-align: top;\n",
              "    }\n",
              "\n",
              "    .dataframe thead th {\n",
              "        text-align: right;\n",
              "    }\n",
              "</style>\n",
              "<table border=\"1\" class=\"dataframe\">\n",
              "  <thead>\n",
              "    <tr style=\"text-align: right;\">\n",
              "      <th></th>\n",
              "      <th>pert_id</th>\n",
              "      <th>cmap_name</th>\n",
              "      <th>target</th>\n",
              "      <th>moa</th>\n",
              "      <th>canonical_smiles</th>\n",
              "      <th>inchi_key</th>\n",
              "      <th>compound_aliases</th>\n",
              "    </tr>\n",
              "  </thead>\n",
              "  <tbody>\n",
              "    <tr>\n",
              "      <th>71</th>\n",
              "      <td>BRD-K92310201</td>\n",
              "      <td>mometasone</td>\n",
              "      <td>NR3C1</td>\n",
              "      <td>Glucocorticoid receptor agonist</td>\n",
              "      <td>C[C@@H]1C[C@H]2[C@H]3CCC4=CC(=O)C=C[C@]4(C)[C@...</td>\n",
              "      <td>WOFMFGQZHJDGCX-CLWZPKSSSA-N</td>\n",
              "      <td>None</td>\n",
              "    </tr>\n",
              "    <tr>\n",
              "      <th>32</th>\n",
              "      <td>BRD-K30207000</td>\n",
              "      <td>dexamethasone</td>\n",
              "      <td>NR3C1</td>\n",
              "      <td>Glucocorticoid receptor agonist</td>\n",
              "      <td>C[C@@H]1C[C@H]2[C@H]3CCC4=CC(=O)C=C[C@]4(C)[C@...</td>\n",
              "      <td>AKUJBENLRBOFTD-ARBOEXFKSA-N</td>\n",
              "      <td>None</td>\n",
              "    </tr>\n",
              "    <tr>\n",
              "      <th>26</th>\n",
              "      <td>BRD-K53342282</td>\n",
              "      <td>cortisol</td>\n",
              "      <td>NR3C1</td>\n",
              "      <td>Glucocorticoid receptor agonist</td>\n",
              "      <td>CC(=O)OCC(=O)[C@@]1(O)CC[C@@H]2[C@@H]3CCC4=CC(...</td>\n",
              "      <td>ALEXXDVDDISNDU-FPNXCIAJSA-N</td>\n",
              "      <td>None</td>\n",
              "    </tr>\n",
              "    <tr>\n",
              "      <th>75</th>\n",
              "      <td>BRD-A78391468</td>\n",
              "      <td>prednisolone-hemisuccinate</td>\n",
              "      <td>NR3C1</td>\n",
              "      <td>Glucocorticoid receptor agonist</td>\n",
              "      <td>C[C@]12C[C@H](O)C3C(CCC4=CC(=O)C=C[C@]34C)C1CC...</td>\n",
              "      <td>APGDTXUMTIZLCJ-PILPDLGISA-N</td>\n",
              "      <td>None</td>\n",
              "    </tr>\n",
              "    <tr>\n",
              "      <th>13</th>\n",
              "      <td>BRD-A02180903</td>\n",
              "      <td>betamethasone</td>\n",
              "      <td>NR3C1</td>\n",
              "      <td>Glucocorticoid receptor agonist</td>\n",
              "      <td>C[C@H]1CC2C3CCC4=CC(=O)C=C[C@]4(C)[C@@]3(F)[C@...</td>\n",
              "      <td>UREBDLICKHMUKA-REKGUKDCSA-N</td>\n",
              "      <td>None</td>\n",
              "    </tr>\n",
              "    <tr>\n",
              "      <th>41</th>\n",
              "      <td>BRD-A01346607</td>\n",
              "      <td>flumetasone</td>\n",
              "      <td>NR3C1</td>\n",
              "      <td>Glucocorticoid receptor agonist</td>\n",
              "      <td>C[C@@H]1CC2C3C[C@H](F)C4=CC(=O)C=C[C@]4(C)[C@@...</td>\n",
              "      <td>WXURHACBFYSXBI-DRBBXQFKSA-N</td>\n",
              "      <td>None</td>\n",
              "    </tr>\n",
              "    <tr>\n",
              "      <th>82</th>\n",
              "      <td>BRD-K23714869</td>\n",
              "      <td>triamcinolone</td>\n",
              "      <td>NR3C1</td>\n",
              "      <td>Glucocorticoid receptor agonist</td>\n",
              "      <td>C[C@]12C[C@H](O)[C@@]3(F)[C@H](CCC4=CC(=O)C=C[...</td>\n",
              "      <td>GFNANZIMVAIWHM-YAQGJSIVSA-N</td>\n",
              "      <td>None</td>\n",
              "    </tr>\n",
              "    <tr>\n",
              "      <th>7</th>\n",
              "      <td>BRD-A16478930</td>\n",
              "      <td>amcinonide</td>\n",
              "      <td>NR3C1</td>\n",
              "      <td>Glucocorticoid receptor agonist</td>\n",
              "      <td>CC(=O)OCC(=O)C12OC3(CCCC3)OC1CC1C3CCC4=CC(=O)C...</td>\n",
              "      <td>ILKJAFIWWBXGDU-UHFFFAOYSA-N</td>\n",
              "      <td>None</td>\n",
              "    </tr>\n",
              "    <tr>\n",
              "      <th>51</th>\n",
              "      <td>BRD-K62310379</td>\n",
              "      <td>fluticasone-propionate</td>\n",
              "      <td>PGR</td>\n",
              "      <td>Glucocorticoid receptor agonist</td>\n",
              "      <td>CCC(=O)O[C@@]1([C@H](C)C[C@H]2[C@@H]3C[C@H](F)...</td>\n",
              "      <td>WMWTYOKRWGGJOA-CENSZEJFSA-N</td>\n",
              "      <td>None</td>\n",
              "    </tr>\n",
              "    <tr>\n",
              "      <th>53</th>\n",
              "      <td>BRD-K71451869</td>\n",
              "      <td>halcinonide</td>\n",
              "      <td>NR3C1</td>\n",
              "      <td>Glucocorticoid receptor agonist</td>\n",
              "      <td>CC1(C)O[C@@H]2C[C@H]3[C@H]4CCC5=CC(=O)CC[C@]5(...</td>\n",
              "      <td>MUQNGPZZQDCDFT-VDJZZIFASA-N</td>\n",
              "      <td>None</td>\n",
              "    </tr>\n",
              "  </tbody>\n",
              "</table>\n",
              "</div>"
            ],
            "text/plain": [
              "          pert_id  ... compound_aliases\n",
              "71  BRD-K92310201  ...             None\n",
              "32  BRD-K30207000  ...             None\n",
              "26  BRD-K53342282  ...             None\n",
              "75  BRD-A78391468  ...             None\n",
              "13  BRD-A02180903  ...             None\n",
              "41  BRD-A01346607  ...             None\n",
              "82  BRD-K23714869  ...             None\n",
              "7   BRD-A16478930  ...             None\n",
              "51  BRD-K62310379  ...             None\n",
              "53  BRD-K71451869  ...             None\n",
              "\n",
              "[10 rows x 7 columns]"
            ]
          },
          "metadata": {
            "tags": []
          },
          "execution_count": 10
        }
      ]
    },
    {
      "cell_type": "markdown",
      "metadata": {
        "id": "27G0ZiKyDnrd"
      },
      "source": [
        "<div style=\"font-size: 12pt;line-height:20px\">\n",
        "\n",
        "Lets take the first 10 compounds and see how many signatures are available for those compounds. We can pass a list of compounds to the **cmap_sig function**, which then queries the dataset for compounds that match."
      ]
    },
    {
      "cell_type": "code",
      "metadata": {
        "id": "v0HBkU2EnssJ",
        "colab": {
          "base_uri": "https://localhost:8080/"
        },
        "outputId": "1746315d-ba49-43f1-fbe3-ca56f73de1f4"
      },
      "source": [
        "moa_cps = moa_cpinfo.cmap_name.unique()\n",
        "moa_cps"
      ],
      "execution_count": null,
      "outputs": [
        {
          "output_type": "execute_result",
          "data": {
            "text/plain": [
              "array(['dexamethasone', 'mometasone', 'flumetasone', 'alclometasone',\n",
              "       'amcinonide', 'beclometasone', 'beclomethasone-dipropionate',\n",
              "       'betamethasone', 'betamethasone-acetate', 'betamethasone-valerate',\n",
              "       'budesonide', 'ciclesonide', 'clobetasol', 'clocortolone',\n",
              "       'cortisol', 'cortisone-acetate', 'deflazacort',\n",
              "       'dexamethasone-acetate', 'diflorasone', 'fludrocortisone-acetate',\n",
              "       'fluocinolone-acetonide', 'fluticasone', 'fluticasone-propionate',\n",
              "       'halcinonide', 'halometasone', 'hydrocortisone',\n",
              "       'hydrocortisone-acetate', 'hydrocortisone-hemisuccinate',\n",
              "       'hydrocortisone-valerate', 'isoflupredone',\n",
              "       'isoflupredone-acetate', 'loteprednol', 'medrysone',\n",
              "       'methylprednisolone', 'piretanide', 'prednisolone-acetate',\n",
              "       'prednisolone-hemisuccinate', 'prednisone', 'rimexolone',\n",
              "       'triamcinolone'], dtype=object)"
            ]
          },
          "metadata": {
            "tags": []
          },
          "execution_count": 11
        }
      ]
    },
    {
      "cell_type": "markdown",
      "metadata": {
        "id": "M4HvZ56L9ScL"
      },
      "source": [
        "## Cell Line information"
      ]
    },
    {
      "cell_type": "code",
      "metadata": {
        "id": "jdTO3msOS9uC",
        "colab": {
          "base_uri": "https://localhost:8080/",
          "height": 202
        },
        "outputId": "f7b1242a-361b-4b5c-e1a1-5699d4fc12af"
      },
      "source": [
        "core_cell_lines = ['U2OS'] #['A375', 'A549', 'HCC515', 'HEPG2', 'MCF7', 'PC3', 'VCAP', 'HT29', 'HA1E']\n",
        "\n",
        "core_cellinfo = cmap_query.cmap_cell(bq_client, \n",
        "  cell_iname=core_cell_lines, \n",
        "  verbose=True,\n",
        ")\n",
        "core_cellinfo.head(10)"
      ],
      "execution_count": null,
      "outputs": [
        {
          "output_type": "stream",
          "text": [
            "Table: \n",
            " cmap-big-table.cmap_lincs_public_views.cellinfo\n",
            "Query:\n",
            " SELECT * FROM cmap-big-table.cmap_lincs_public_views.cellinfo WHERE cell_iname in UNNEST(['U2OS'])\n"
          ],
          "name": "stdout"
        },
        {
          "output_type": "execute_result",
          "data": {
            "text/html": [
              "<div>\n",
              "<style scoped>\n",
              "    .dataframe tbody tr th:only-of-type {\n",
              "        vertical-align: middle;\n",
              "    }\n",
              "\n",
              "    .dataframe tbody tr th {\n",
              "        vertical-align: top;\n",
              "    }\n",
              "\n",
              "    .dataframe thead th {\n",
              "        text-align: right;\n",
              "    }\n",
              "</style>\n",
              "<table border=\"1\" class=\"dataframe\">\n",
              "  <thead>\n",
              "    <tr style=\"text-align: right;\">\n",
              "      <th></th>\n",
              "      <th>cell_iname</th>\n",
              "      <th>cellosaurus_id</th>\n",
              "      <th>donor_age</th>\n",
              "      <th>donor_age_death</th>\n",
              "      <th>donor_disease_age_onset</th>\n",
              "      <th>doubling_time</th>\n",
              "      <th>growth_medium</th>\n",
              "      <th>provider_catalog_id</th>\n",
              "      <th>feature_id</th>\n",
              "      <th>cell_type</th>\n",
              "      <th>donor_ethnicity</th>\n",
              "      <th>donor_sex</th>\n",
              "      <th>donor_tumor_phase</th>\n",
              "      <th>cell_lineage</th>\n",
              "      <th>primary_disease</th>\n",
              "      <th>subtype</th>\n",
              "      <th>provider_name</th>\n",
              "      <th>growth_pattern</th>\n",
              "      <th>ccle_name</th>\n",
              "      <th>cell_alias</th>\n",
              "    </tr>\n",
              "  </thead>\n",
              "  <tbody>\n",
              "    <tr>\n",
              "      <th>0</th>\n",
              "      <td>U2OS</td>\n",
              "      <td>CVCL_0042</td>\n",
              "      <td>15</td>\n",
              "      <td>None</td>\n",
              "      <td>None</td>\n",
              "      <td>60</td>\n",
              "      <td>McCoy's 5A ATCC catalog # 3-27</td>\n",
              "      <td>HTB-96</td>\n",
              "      <td>c-62</td>\n",
              "      <td>tumor</td>\n",
              "      <td>Caucasian</td>\n",
              "      <td>F</td>\n",
              "      <td>Primary</td>\n",
              "      <td>bone</td>\n",
              "      <td>bone cancer</td>\n",
              "      <td>osteosarcoma</td>\n",
              "      <td>ATCC</td>\n",
              "      <td>adherent</td>\n",
              "      <td>U2OS_BONE</td>\n",
              "      <td>2T|U-2 OS</td>\n",
              "    </tr>\n",
              "  </tbody>\n",
              "</table>\n",
              "</div>"
            ],
            "text/plain": [
              "  cell_iname cellosaurus_id donor_age  ... growth_pattern  ccle_name cell_alias\n",
              "0       U2OS      CVCL_0042        15  ...       adherent  U2OS_BONE  2T|U-2 OS\n",
              "\n",
              "[1 rows x 20 columns]"
            ]
          },
          "metadata": {
            "tags": []
          },
          "execution_count": 24
        }
      ]
    },
    {
      "cell_type": "markdown",
      "metadata": {
        "id": "trvLt0FV9XTv"
      },
      "source": [
        "## Query Siginfo "
      ]
    },
    {
      "cell_type": "markdown",
      "metadata": {
        "id": "qyzjNqtlDnr0"
      },
      "source": [
        "<div style=\"font-size: 12pt;line-height:20px\">\n",
        "\n",
        "\n",
        "The siginfo file provides information on the conditions for each experiment such as compound, dose, timepoint, cell line, and more.\n",
        "\n",
        "The table also includes information regarding the signal strength and replicate correlation of the compound. The `tas` contains the signatures **Transcriptional Activity Score (TAS)** which is an aggregate measure of strength and reproducibilty.  [More information about signature quality metrics can be found on Connectopedia](https://clue.io/connectopedia/signature_quality_metrics)"
      ]
    },
    {
      "cell_type": "code",
      "metadata": {
        "id": "E-23XFmkjXAW",
        "colab": {
          "base_uri": "https://localhost:8080/",
          "height": 394
        },
        "outputId": "4ac19476-702f-409a-9b9b-5e6a944e263b"
      },
      "source": [
        "sample_cell_lines = list(core_cellinfo.cell_iname.unique()) #core_cell_lines\n",
        "\n",
        "'''sample_compounds = list(moa_cps)\n",
        "print(\"Compounds: {}\".format(sample_compounds))\n",
        "print(\"Cell Lines: {}\".format(sample_cell_lines))\n",
        "'''\n",
        "siginfo_sample = cmap_query.cmap_sig(     #Query the siginfo table\n",
        "    bq_client, \n",
        "    #cmap_name = sample_compounds,\n",
        "    cell_iname = sample_cell_lines,\n",
        "    return_fields = 'all'  # we usually use the default attributes\n",
        ")\n",
        "\n",
        "#siginfo_sample = siginfo_sample.loc[     #Filter returned table \n",
        "    #(siginfo_sample.nsample >= 3)\n",
        "    # &\n",
        "    #((abs(siginfo_sample.pert_dose - 10) <0.01) | (abs(siginfo_sample.pert_dose - 5) <0.01) )\n",
        "    \n",
        "    #(siginfo_sample.pert_itime.eq('24 h'))\n",
        "#]\n",
        "\n",
        "\n",
        "siginfo_sample = siginfo_sample.merge(core_cellinfo, on='cell_iname') #join with cellinfo table to get cell lineage information\n",
        "siginfo_sample.sample(5)"
      ],
      "execution_count": null,
      "outputs": [
        {
          "output_type": "execute_result",
          "data": {
            "text/html": [
              "<div>\n",
              "<style scoped>\n",
              "    .dataframe tbody tr th:only-of-type {\n",
              "        vertical-align: middle;\n",
              "    }\n",
              "\n",
              "    .dataframe tbody tr th {\n",
              "        vertical-align: top;\n",
              "    }\n",
              "\n",
              "    .dataframe thead th {\n",
              "        text-align: right;\n",
              "    }\n",
              "</style>\n",
              "<table border=\"1\" class=\"dataframe\">\n",
              "  <thead>\n",
              "    <tr style=\"text-align: right;\">\n",
              "      <th></th>\n",
              "      <th>bead_batch</th>\n",
              "      <th>nearest_dose</th>\n",
              "      <th>pert_dose</th>\n",
              "      <th>pert_dose_unit</th>\n",
              "      <th>pert_idose</th>\n",
              "      <th>pert_itime</th>\n",
              "      <th>pert_time</th>\n",
              "      <th>pert_time_unit</th>\n",
              "      <th>cell_mfc_name</th>\n",
              "      <th>pert_mfc_id</th>\n",
              "      <th>nsample</th>\n",
              "      <th>cc_q75</th>\n",
              "      <th>ss_ngene</th>\n",
              "      <th>tas</th>\n",
              "      <th>pct_self_rank_q25</th>\n",
              "      <th>wt</th>\n",
              "      <th>median_recall_rank_spearman</th>\n",
              "      <th>median_recall_rank_wtcs_50</th>\n",
              "      <th>median_recall_score_spearman</th>\n",
              "      <th>median_recall_score_wtcs_50</th>\n",
              "      <th>batch_effect_tstat</th>\n",
              "      <th>batch_effect_tstat_pct</th>\n",
              "      <th>is_hiq</th>\n",
              "      <th>qc_pass</th>\n",
              "      <th>pert_id</th>\n",
              "      <th>sig_id</th>\n",
              "      <th>pert_type</th>\n",
              "      <th>cell_iname</th>\n",
              "      <th>id</th>\n",
              "      <th>det_wells</th>\n",
              "      <th>det_plates</th>\n",
              "      <th>distil_ids</th>\n",
              "      <th>build_name</th>\n",
              "      <th>project_code</th>\n",
              "      <th>cmap_name</th>\n",
              "      <th>is_ncs_exemplar</th>\n",
              "      <th>cellosaurus_id</th>\n",
              "      <th>donor_age</th>\n",
              "      <th>donor_age_death</th>\n",
              "      <th>donor_disease_age_onset</th>\n",
              "      <th>doubling_time</th>\n",
              "      <th>growth_medium</th>\n",
              "      <th>provider_catalog_id</th>\n",
              "      <th>feature_id</th>\n",
              "      <th>cell_type</th>\n",
              "      <th>donor_ethnicity</th>\n",
              "      <th>donor_sex</th>\n",
              "      <th>donor_tumor_phase</th>\n",
              "      <th>cell_lineage</th>\n",
              "      <th>primary_disease</th>\n",
              "      <th>subtype</th>\n",
              "      <th>provider_name</th>\n",
              "      <th>growth_pattern</th>\n",
              "      <th>ccle_name</th>\n",
              "      <th>cell_alias</th>\n",
              "    </tr>\n",
              "  </thead>\n",
              "  <tbody>\n",
              "    <tr>\n",
              "      <th>23490</th>\n",
              "      <td>b41</td>\n",
              "      <td>0.05</td>\n",
              "      <td>0.049936</td>\n",
              "      <td>uM</td>\n",
              "      <td>0.05 uM</td>\n",
              "      <td>6 h</td>\n",
              "      <td>6.0</td>\n",
              "      <td>h</td>\n",
              "      <td>U2OS</td>\n",
              "      <td>BRD-K94441233</td>\n",
              "      <td>4</td>\n",
              "      <td>0.1579</td>\n",
              "      <td>101</td>\n",
              "      <td>0.127697</td>\n",
              "      <td>1.9218</td>\n",
              "      <td>0.19,0.42,0.18,0.21</td>\n",
              "      <td>10.274800</td>\n",
              "      <td>34.05310</td>\n",
              "      <td>0.107275</td>\n",
              "      <td>0.286623</td>\n",
              "      <td>25.87</td>\n",
              "      <td>88.68790</td>\n",
              "      <td>0</td>\n",
              "      <td>0</td>\n",
              "      <td>BRD-K94441233</td>\n",
              "      <td>LKCP002_U2OS_6H:A06</td>\n",
              "      <td>trt_cp</td>\n",
              "      <td>U2OS</td>\n",
              "      <td>None</td>\n",
              "      <td>A06</td>\n",
              "      <td>LKCP002_U2OS_6H_X1.A2_B41|LKCP002_U2OS_6H_X2.A...</td>\n",
              "      <td>LKCP002_U2OS_6H_X1.A2_B41:A06|LKCP002_U2OS_6H_...</td>\n",
              "      <td>None</td>\n",
              "      <td>LKCP</td>\n",
              "      <td>mevastatin</td>\n",
              "      <td>0</td>\n",
              "      <td>CVCL_0042</td>\n",
              "      <td>15</td>\n",
              "      <td>None</td>\n",
              "      <td>None</td>\n",
              "      <td>60</td>\n",
              "      <td>McCoy's 5A ATCC catalog # 3-27</td>\n",
              "      <td>HTB-96</td>\n",
              "      <td>c-62</td>\n",
              "      <td>tumor</td>\n",
              "      <td>Caucasian</td>\n",
              "      <td>F</td>\n",
              "      <td>Primary</td>\n",
              "      <td>bone</td>\n",
              "      <td>bone cancer</td>\n",
              "      <td>osteosarcoma</td>\n",
              "      <td>ATCC</td>\n",
              "      <td>adherent</td>\n",
              "      <td>U2OS_BONE</td>\n",
              "      <td>2T|U-2 OS</td>\n",
              "    </tr>\n",
              "    <tr>\n",
              "      <th>13805</th>\n",
              "      <td>b1</td>\n",
              "      <td>10.00</td>\n",
              "      <td>10.114000</td>\n",
              "      <td>uM</td>\n",
              "      <td>10 uM</td>\n",
              "      <td>6 h</td>\n",
              "      <td>6.0</td>\n",
              "      <td>h</td>\n",
              "      <td>U2OS</td>\n",
              "      <td>BRD-K21536131-001-01-3</td>\n",
              "      <td>3</td>\n",
              "      <td>0.1100</td>\n",
              "      <td>141</td>\n",
              "      <td>0.125932</td>\n",
              "      <td>24.7505</td>\n",
              "      <td>0.47,0.47,0.07</td>\n",
              "      <td>60.197400</td>\n",
              "      <td>58.02930</td>\n",
              "      <td>-0.011896</td>\n",
              "      <td>0.000000</td>\n",
              "      <td>1.11</td>\n",
              "      <td>9.13006</td>\n",
              "      <td>0</td>\n",
              "      <td>1</td>\n",
              "      <td>BRD-K21536131</td>\n",
              "      <td>PAC036_U2OS_6H:BRD-K21536131-001-01-3:10.114</td>\n",
              "      <td>trt_cp</td>\n",
              "      <td>U2OS</td>\n",
              "      <td>None</td>\n",
              "      <td>A22</td>\n",
              "      <td>PAC036_U2OS_6H_X1_B1_UNI4445R|PAC036_U2OS_6H_X...</td>\n",
              "      <td>PAC036_U2OS_6H_X1_B1_UNI4445R:A22|PAC036_U2OS_...</td>\n",
              "      <td>None</td>\n",
              "      <td>PAC</td>\n",
              "      <td>BRD-K21536131</td>\n",
              "      <td>1</td>\n",
              "      <td>CVCL_0042</td>\n",
              "      <td>15</td>\n",
              "      <td>None</td>\n",
              "      <td>None</td>\n",
              "      <td>60</td>\n",
              "      <td>McCoy's 5A ATCC catalog # 3-27</td>\n",
              "      <td>HTB-96</td>\n",
              "      <td>c-62</td>\n",
              "      <td>tumor</td>\n",
              "      <td>Caucasian</td>\n",
              "      <td>F</td>\n",
              "      <td>Primary</td>\n",
              "      <td>bone</td>\n",
              "      <td>bone cancer</td>\n",
              "      <td>osteosarcoma</td>\n",
              "      <td>ATCC</td>\n",
              "      <td>adherent</td>\n",
              "      <td>U2OS_BONE</td>\n",
              "      <td>2T|U-2 OS</td>\n",
              "    </tr>\n",
              "    <tr>\n",
              "      <th>4721</th>\n",
              "      <td>b15</td>\n",
              "      <td>NaN</td>\n",
              "      <td>1.000000</td>\n",
              "      <td>uL</td>\n",
              "      <td>1 uL</td>\n",
              "      <td>72 h</td>\n",
              "      <td>72.0</td>\n",
              "      <td>h</td>\n",
              "      <td>U2OS</td>\n",
              "      <td>BRDN0000464882</td>\n",
              "      <td>2</td>\n",
              "      <td>0.4687</td>\n",
              "      <td>244</td>\n",
              "      <td>0.341958</td>\n",
              "      <td>0.0000</td>\n",
              "      <td>0.50,0.50</td>\n",
              "      <td>0.414831</td>\n",
              "      <td>0.68167</td>\n",
              "      <td>0.468731</td>\n",
              "      <td>0.697718</td>\n",
              "      <td>16.11</td>\n",
              "      <td>69.02100</td>\n",
              "      <td>1</td>\n",
              "      <td>1</td>\n",
              "      <td>BRDN0000464882</td>\n",
              "      <td>TA.OE005_U2OS_72H:BRDN0000464882:1</td>\n",
              "      <td>trt_oe</td>\n",
              "      <td>U2OS</td>\n",
              "      <td>None</td>\n",
              "      <td>M10</td>\n",
              "      <td>TA.OE005_U2OS_72H_X1_B15|TA.OE005_U2OS_72H_X2....</td>\n",
              "      <td>TA.OE005_U2OS_72H_X1_B15:M10|TA.OE005_U2OS_72H...</td>\n",
              "      <td>None</td>\n",
              "      <td>TA</td>\n",
              "      <td>MAP3K9</td>\n",
              "      <td>1</td>\n",
              "      <td>CVCL_0042</td>\n",
              "      <td>15</td>\n",
              "      <td>None</td>\n",
              "      <td>None</td>\n",
              "      <td>60</td>\n",
              "      <td>McCoy's 5A ATCC catalog # 3-27</td>\n",
              "      <td>HTB-96</td>\n",
              "      <td>c-62</td>\n",
              "      <td>tumor</td>\n",
              "      <td>Caucasian</td>\n",
              "      <td>F</td>\n",
              "      <td>Primary</td>\n",
              "      <td>bone</td>\n",
              "      <td>bone cancer</td>\n",
              "      <td>osteosarcoma</td>\n",
              "      <td>ATCC</td>\n",
              "      <td>adherent</td>\n",
              "      <td>U2OS_BONE</td>\n",
              "      <td>2T|U-2 OS</td>\n",
              "    </tr>\n",
              "    <tr>\n",
              "      <th>4763</th>\n",
              "      <td>b15</td>\n",
              "      <td>NaN</td>\n",
              "      <td>1.000000</td>\n",
              "      <td>uL</td>\n",
              "      <td>1 uL</td>\n",
              "      <td>72 h</td>\n",
              "      <td>72.0</td>\n",
              "      <td>h</td>\n",
              "      <td>U2OS</td>\n",
              "      <td>BRDN0000459470</td>\n",
              "      <td>2</td>\n",
              "      <td>0.1853</td>\n",
              "      <td>81</td>\n",
              "      <td>0.123883</td>\n",
              "      <td>0.0000</td>\n",
              "      <td>0.50,0.50</td>\n",
              "      <td>9.230750</td>\n",
              "      <td>5.34284</td>\n",
              "      <td>0.185308</td>\n",
              "      <td>0.443083</td>\n",
              "      <td>16.11</td>\n",
              "      <td>69.02100</td>\n",
              "      <td>0</td>\n",
              "      <td>1</td>\n",
              "      <td>BRDN0000459470</td>\n",
              "      <td>TA.OE005_U2OS_72H:BRDN0000459470:1</td>\n",
              "      <td>trt_oe</td>\n",
              "      <td>U2OS</td>\n",
              "      <td>None</td>\n",
              "      <td>G20</td>\n",
              "      <td>TA.OE005_U2OS_72H_X1_B15|TA.OE005_U2OS_72H_X2....</td>\n",
              "      <td>TA.OE005_U2OS_72H_X1_B15:G20|TA.OE005_U2OS_72H...</td>\n",
              "      <td>None</td>\n",
              "      <td>TA</td>\n",
              "      <td>PRKCE</td>\n",
              "      <td>1</td>\n",
              "      <td>CVCL_0042</td>\n",
              "      <td>15</td>\n",
              "      <td>None</td>\n",
              "      <td>None</td>\n",
              "      <td>60</td>\n",
              "      <td>McCoy's 5A ATCC catalog # 3-27</td>\n",
              "      <td>HTB-96</td>\n",
              "      <td>c-62</td>\n",
              "      <td>tumor</td>\n",
              "      <td>Caucasian</td>\n",
              "      <td>F</td>\n",
              "      <td>Primary</td>\n",
              "      <td>bone</td>\n",
              "      <td>bone cancer</td>\n",
              "      <td>osteosarcoma</td>\n",
              "      <td>ATCC</td>\n",
              "      <td>adherent</td>\n",
              "      <td>U2OS_BONE</td>\n",
              "      <td>2T|U-2 OS</td>\n",
              "    </tr>\n",
              "    <tr>\n",
              "      <th>2406</th>\n",
              "      <td>b1</td>\n",
              "      <td>10.00</td>\n",
              "      <td>10.139900</td>\n",
              "      <td>uM</td>\n",
              "      <td>10 uM</td>\n",
              "      <td>6 h</td>\n",
              "      <td>6.0</td>\n",
              "      <td>h</td>\n",
              "      <td>U2OS</td>\n",
              "      <td>BRD-K97236134-001-01-6</td>\n",
              "      <td>1</td>\n",
              "      <td>0.0000</td>\n",
              "      <td>0</td>\n",
              "      <td>0.000000</td>\n",
              "      <td>0.0000</td>\n",
              "      <td>1.00</td>\n",
              "      <td>0.000000</td>\n",
              "      <td>0.00000</td>\n",
              "      <td>0.000000</td>\n",
              "      <td>0.000000</td>\n",
              "      <td>-1.22</td>\n",
              "      <td>2.92851</td>\n",
              "      <td>0</td>\n",
              "      <td>1</td>\n",
              "      <td>BRD-K97236134</td>\n",
              "      <td>PAC028_U2OS_6H:BRD-K97236134-001-01-6:10.1399</td>\n",
              "      <td>trt_cp</td>\n",
              "      <td>U2OS</td>\n",
              "      <td>None</td>\n",
              "      <td>C20</td>\n",
              "      <td>PAC028_U2OS_6H_X3_B1_UNI4445R</td>\n",
              "      <td>PAC028_U2OS_6H_X3_B1_UNI4445R:C20</td>\n",
              "      <td>None</td>\n",
              "      <td>PAC</td>\n",
              "      <td>BRD-K97236134</td>\n",
              "      <td>0</td>\n",
              "      <td>CVCL_0042</td>\n",
              "      <td>15</td>\n",
              "      <td>None</td>\n",
              "      <td>None</td>\n",
              "      <td>60</td>\n",
              "      <td>McCoy's 5A ATCC catalog # 3-27</td>\n",
              "      <td>HTB-96</td>\n",
              "      <td>c-62</td>\n",
              "      <td>tumor</td>\n",
              "      <td>Caucasian</td>\n",
              "      <td>F</td>\n",
              "      <td>Primary</td>\n",
              "      <td>bone</td>\n",
              "      <td>bone cancer</td>\n",
              "      <td>osteosarcoma</td>\n",
              "      <td>ATCC</td>\n",
              "      <td>adherent</td>\n",
              "      <td>U2OS_BONE</td>\n",
              "      <td>2T|U-2 OS</td>\n",
              "    </tr>\n",
              "  </tbody>\n",
              "</table>\n",
              "</div>"
            ],
            "text/plain": [
              "      bead_batch  nearest_dose  pert_dose  ... growth_pattern  ccle_name cell_alias\n",
              "23490        b41          0.05   0.049936  ...       adherent  U2OS_BONE  2T|U-2 OS\n",
              "13805         b1         10.00  10.114000  ...       adherent  U2OS_BONE  2T|U-2 OS\n",
              "4721         b15           NaN   1.000000  ...       adherent  U2OS_BONE  2T|U-2 OS\n",
              "4763         b15           NaN   1.000000  ...       adherent  U2OS_BONE  2T|U-2 OS\n",
              "2406          b1         10.00  10.139900  ...       adherent  U2OS_BONE  2T|U-2 OS\n",
              "\n",
              "[5 rows x 55 columns]"
            ]
          },
          "metadata": {
            "tags": []
          },
          "execution_count": 25
        }
      ]
    },
    {
      "cell_type": "code",
      "metadata": {
        "colab": {
          "base_uri": "https://localhost:8080/"
        },
        "id": "xQNjFcRIMBby",
        "outputId": "c6199931-8844-4c09-f67c-88384cb6db8a"
      },
      "source": [
        "siginfo_sample.sig_id"
      ],
      "execution_count": null,
      "outputs": [
        {
          "output_type": "execute_result",
          "data": {
            "text/plain": [
              "0        PAC013_U2OS_6H:BRD-A18477699-001-01-1:10.1192\n",
              "1        PAC052_U2OS_6H:BRD-K09725203-001-01-1:10.0397\n",
              "2        PAC054_U2OS_6H:BRD-K53988836-001-01-5:9.97739\n",
              "3           PAC052_U2OS_6H:BRD-K05396879-001-03-4:6.32\n",
              "4             PAC002_U2OS_6H:BRD-K52379519-001-02-0:10\n",
              "                             ...                      \n",
              "26400                             LKCP001_U2OS_48H:H10\n",
              "26401                             LKCP001_U2OS_48H:H04\n",
              "26402                             LKCP001_U2OS_48H:D13\n",
              "26403                             LKCP001_U2OS_48H:C21\n",
              "26404                             LKCP001_U2OS_48H:C22\n",
              "Name: sig_id, Length: 26405, dtype: object"
            ]
          },
          "metadata": {
            "tags": []
          },
          "execution_count": 26
        }
      ]
    },
    {
      "cell_type": "code",
      "metadata": {
        "colab": {
          "base_uri": "https://localhost:8080/"
        },
        "id": "LZeIPKQrtc92",
        "outputId": "1e695f7d-5307-4b26-baa0-ac441ce67149"
      },
      "source": [
        "#type(siginfo_sample)\n",
        "\n",
        "#siginfo_sample.to_csv('siginfo_U2OS_all.csv', index=False)\n",
        "#!cp siginfo_U2OS.csv \"/content\""
      ],
      "execution_count": null,
      "outputs": [
        {
          "output_type": "stream",
          "text": [
            "cp: cannot stat 'siginfo_U2OS.csv': No such file or directory\n"
          ],
          "name": "stdout"
        }
      ]
    },
    {
      "cell_type": "code",
      "metadata": {
        "id": "d3NxRWAJ5Pg3",
        "colab": {
          "base_uri": "https://localhost:8080/",
          "height": 404
        },
        "outputId": "9d9af2e4-b02d-4be1-c9b7-6a618566d87a"
      },
      "source": [
        "plt.figure(figsize=(8,6))\n",
        "\n",
        "sorted_index = siginfo_sample.groupby('cell_iname').median().sort_values('tas').index\n",
        "\n",
        "sns.boxplot(\n",
        "    data=siginfo_sample,\n",
        "    x='cell_iname',\n",
        "    y='tas',\n",
        "    hue='cell_lineage',\n",
        "    dodge=False,\n",
        "    order=sorted_index\n",
        ");\n",
        "\n",
        "plt.title('Transcriptional Activity by Cell Line')\n",
        "plt.xlabel('Cell Line')\n",
        "plt.ylabel('Transcriptional Activity Score (TAS)')\n",
        "plt.legend(loc='upper left', bbox_to_anchor=(1.01,1))\n",
        "plt.show()"
      ],
      "execution_count": null,
      "outputs": [
        {
          "output_type": "display_data",
          "data": {
            "image/png": "[encoded data removed]",
            "text/plain": [
              "<Figure size 576x432 with 1 Axes>"
            ]
          },
          "metadata": {
            "tags": [],
            "needs_background": "light"
          }
        }
      ]
    },
    {
      "cell_type": "markdown",
      "metadata": {
        "id": "Lsgw2Fnmw75G"
      },
      "source": [
        "## Numerical Data"
      ]
    },
    {
      "cell_type": "markdown",
      "metadata": {
        "id": "JXoXha2Tav6W"
      },
      "source": [
        "### Extracting Numerical data using `cmapBQ.query.cmap_matrix`"
      ]
    },
    {
      "cell_type": "code",
      "metadata": {
        "id": "egy1Ak7ApLR8",
        "colab": {
          "base_uri": "https://localhost:8080/"
        },
        "outputId": "198983f7-1c27-4bc0-90f0-6a06c6fbfd61"
      },
      "source": [
        "sig_ids = siginfo_sample.sig_id.unique() #sig_ids are unique for each signature and relates siginfo table to numerical data\n",
        "\n",
        "sample_data_numerical = cmap_query.cmap_matrix(bq_client,\n",
        "    data_level='level5',\n",
        "    feature_space='landmark', #Choices ['landmark', 'bing', 'aig']\n",
        "    cid=list(sig_ids)[8000:12000], #columns are signatures -> cannot exceed 4000!\n",
        ")\n",
        "\n",
        "print( sample_data_numerical.data_df.shape )\n",
        "write_gctx(sample_data_numerical, 'sample_data_U2OS_part3.gctx')"
      ],
      "execution_count": null,
      "outputs": [
        {
          "output_type": "stream",
          "text": [
            "Running query ... (1/4)\n",
            "Total bytes processed: 171.6MiB\n",
            "Total bytes billed: 171.6MiB\n",
            "Running query ... (2/4)\n",
            "Total bytes processed: 105.3MiB\n",
            "Total bytes billed: 105.3MiB\n",
            "Running query ... (3/4)\n",
            "Total bytes processed: 145.7MiB\n",
            "Total bytes billed: 145.7MiB\n",
            "Running query ... (4/4)\n",
            "Total bytes processed: 129.1MiB\n",
            "Total bytes billed: 129.1MiB\n",
            "Pivoting Dataframes to GCT objects\n",
            "Complete\n",
            "(978, 4000)\n"
          ],
          "name": "stdout"
        }
      ]
    },
    {
      "cell_type": "code",
      "metadata": {
        "colab": {
          "base_uri": "https://localhost:8080/"
        },
        "id": "3FVnRRpJ7glQ",
        "outputId": "0ba418c0-8eb3-4984-fba9-298a4bec7494"
      },
      "source": [
        ""
      ],
      "execution_count": null,
      "outputs": [
        {
          "output_type": "execute_result",
          "data": {
            "text/plain": [
              "26405"
            ]
          },
          "metadata": {
            "tags": []
          },
          "execution_count": 13
        }
      ]
    },
    {
      "cell_type": "markdown",
      "metadata": {
        "id": "IshdQPt5gw5B"
      },
      "source": [
        "`cmap_matrix` returns a GCToo object, part of the cmapPy resource. Documentation on the GCToo object structure and useful cmapPy utilities can be found in the cmapPy documentation here: https://cmappy.readthedocs.io/en/stable/"
      ]
    },
    {
      "cell_type": "markdown",
      "metadata": {
        "id": "RyQH2lKka-7-"
      },
      "source": [
        "### Write to file as GCTX"
      ]
    },
    {
      "cell_type": "code",
      "metadata": {
        "id": "vB1SQaAiDnsN"
      },
      "source": [
        "from cmapPy.pandasGEXpress.write_gctx import write as write_gctx\n",
        "from cmapPy.pandasGEXpress.write_gct import write as write_gct\n",
        "\n",
        "write_gctx(sample_data_numerical, 'sample_data_U2OS_part1.gctx')\n",
        "#write_gct(sample_data_numerical, filename)"
      ],
      "execution_count": null,
      "outputs": []
    },
    {
      "cell_type": "markdown",
      "metadata": {
        "id": "yHAUuOQCG5Ml"
      },
      "source": [
        "## Pairwise Correlations"
      ]
    },
    {
      "cell_type": "code",
      "metadata": {
        "id": "2b3r9xYxw6eB"
      },
      "source": [
        "corr_matrix = sample_data_numerical.data_df.corr()\n",
        "print(corr_matrix.shape)"
      ],
      "execution_count": null,
      "outputs": []
    },
    {
      "cell_type": "markdown",
      "metadata": {
        "id": "c-K98pMLWsRA"
      },
      "source": [
        "### Function definitions"
      ]
    },
    {
      "cell_type": "code",
      "metadata": {
        "id": "XkW9ZNHvI_MN"
      },
      "source": [
        "import scipy\n",
        "import scipy.cluster.hierarchy as sch\n",
        "import numpy as np\n",
        "\n",
        "\n",
        "def get_off_diagonals(matrix):\n",
        "  \"\"\"\n",
        "  Extract off-diagonal elements of matrix as list of values\n",
        "\n",
        "  Parameters\n",
        "  ----------\n",
        "  matrix: pandas.DataFrame or numpy.ndarray, NxN matrix\n",
        "  \n",
        "  Returns\n",
        "  -------\n",
        "  \"\"\"\n",
        "  return matrix.where(\n",
        "    np.triu(np.ones(matrix.shape).astype(bool), k=1)\n",
        "  ).stack().reset_index(drop=True)\n",
        "\n",
        "def cluster_corr(corr_array, inplace=False):\n",
        "    \"\"\"\n",
        "    Rearranges the correlation matrix, corr_array, so that groups of highly \n",
        "    correlated variables are next to eachother \n",
        "    \n",
        "    Parameters\n",
        "    ----------\n",
        "    corr_array : pandas.DataFrame or numpy.ndarray\n",
        "        a NxN correlation matrix \n",
        "        \n",
        "    Returns\n",
        "    -------\n",
        "    pandas.DataFrame or numpy.ndarray\n",
        "        a NxN correlation matrix with the columns and rows rearranged\n",
        "    \"\"\"\n",
        "    pairwise_distances = sch.distance.pdist(corr_array)\n",
        "    linkage = sch.linkage(pairwise_distances, method='complete')\n",
        "    cluster_distance_threshold = pairwise_distances.max()/2\n",
        "    idx_to_cluster_array = sch.fcluster(linkage, cluster_distance_threshold, \n",
        "                                        criterion='distance')\n",
        "    idx = np.argsort(idx_to_cluster_array)\n",
        "    \n",
        "    if not inplace:\n",
        "        corr_array = corr_array.copy()\n",
        "    \n",
        "    if isinstance(corr_array, pd.DataFrame):\n",
        "        return corr_array.iloc[idx, :].T.iloc[idx, :]\n",
        "    return corr_array[idx, :][:, idx]\n",
        "\n",
        "def get_subplot_dimensions(num_plots):\n",
        "    if num_plots % 4 == 0:\n",
        "      return num_plots//4, 4\n",
        "    elif num_plots % 3 == 0:\n",
        "      return num_plots//3, 3\n",
        "    elif num_plots % 2 == 0:\n",
        "      return num_plots//2, 2\n",
        "    elif num_plots % 1 == 0:\n",
        "      return num_plots//1, 1\n",
        "\n",
        "\n"
      ],
      "execution_count": null,
      "outputs": []
    },
    {
      "cell_type": "markdown",
      "metadata": {
        "id": "5Kml4zu0Vfg3"
      },
      "source": [
        "### Histograms"
      ]
    },
    {
      "cell_type": "code",
      "metadata": {
        "id": "BmBTuJj1Vf_b"
      },
      "source": [
        "#Lists used for sns.boxplot\n",
        "dist_list = []\n",
        "cell_list = siginfo_sample.groupby('cell_iname').median().sort_values('tas').index\n",
        "\n",
        "lineage_list = []\n",
        "\n",
        "#ncols=4\n",
        "#nrows=2\n",
        "subplot_size = 5\n",
        "nrows, ncols = get_subplot_dimensions(len(cell_list))\n",
        "fig_dist, axes_dist = plt.subplots(nrows, ncols, figsize=(subplot_size*ncols,subplot_size*nrows))\n",
        "\n",
        "\n",
        "for i,cell in enumerate(cell_list):\n",
        "\n",
        "  lineage = core_cellinfo.loc[\n",
        "        core_cellinfo.cell_iname.eq(cell)\n",
        "      ].cell_lineage.unique()[0]  #Lineage information for cell line\n",
        "\n",
        "  cell_sig_ids = siginfo_sample.loc[\n",
        "    siginfo_sample.cell_iname.eq(cell)\n",
        "  ].sig_id.unique()  #Get sig_ids for cell line\n",
        "\n",
        "  cell_corrs = corr_matrix.loc[cell_sig_ids, cell_sig_ids] #Extract correlations for cell line\n",
        "#  cell_corrs = cluster_corr(cell_corrs) #Cluster cell correlations\n",
        "  \n",
        "  dist = get_off_diagonals(cell_corrs) #Extract off-diagonals\n",
        "  \n",
        "  dist_list.append(dist)\n",
        "  lineage_list.append(lineage)\n",
        "\n",
        "  sns.histplot(dist, \n",
        "               binwidth=0.1,\n",
        "               ax=axes_dist[i // ncols][i % ncols])\n",
        "  axes_dist[i // ncols][i % ncols].set_title(\n",
        "    'Distribution of pairwise connections in {} \\n({})'.format(\n",
        "        cell, \n",
        "        lineage\n",
        "      )\n",
        "    )\n",
        "  axes_dist[i // ncols][i % ncols].set_xlim(-1, 1)\n",
        "  axes_dist[i // ncols][i % ncols].set_xlabel('Correlation')\n",
        "  axes_dist[i // ncols][i % ncols].set_xticks([-1, -0.5, 0, 0.5, 1])\n",
        "\n",
        "plt.tight_layout()\n",
        "plt.show()"
      ],
      "execution_count": null,
      "outputs": []
    },
    {
      "cell_type": "markdown",
      "metadata": {
        "id": "fATzaSlUV2cX"
      },
      "source": [
        "### Boxplots"
      ]
    },
    {
      "cell_type": "code",
      "metadata": {
        "id": "bBBOWqnFVwSi"
      },
      "source": [
        "plt.figure(figsize=(10,10))\n",
        "colors_list = ['brown', 'red', 'orange', 'red', 'magenta', 'blue', 'cyan', 'green', 'green'] #manual coloring by cell_lineage\n",
        "\n",
        "sns.boxplot(\n",
        "    data=dist_list,\n",
        "    palette=colors_list\n",
        "    )\n",
        "\n",
        "labels = ['{}\\n({})'.format(cell_list[i], lineage_list[i]) for i in range(0,len(cell_list))]\n",
        "plt.xticks(np.linspace(0,len(cell_list)-1, len(cell_list)), labels)\n",
        "\n",
        "plt.ylabel('Pairwise Correlations')\n",
        "plt.xlabel('Cell Line')\n",
        "plt.ylim([-1,1])\n",
        "plt.title('Comparison of {} concordance in Core Cell Lines'.format(moa))\n",
        "plt.show()"
      ],
      "execution_count": null,
      "outputs": []
    },
    {
      "cell_type": "markdown",
      "metadata": {
        "id": "LBX2J0MrViB4"
      },
      "source": [
        "### Heatmaps"
      ]
    },
    {
      "cell_type": "markdown",
      "metadata": {
        "id": "O2kxIoQsbkso"
      },
      "source": [
        "#### Color Map Configuration"
      ]
    },
    {
      "cell_type": "code",
      "metadata": {
        "id": "NkUHXKdjEaC_"
      },
      "source": [
        "from matplotlib import cm\n",
        "from matplotlib.colors import ListedColormap, LinearSegmentedColormap\n",
        "\n",
        "red_blue_map = cm.get_cmap('RdBu_r', 256)\n",
        "tau_red_blue_90 = red_blue_map(np.linspace(0,1,200))\n",
        "white = np.array([1, 1, 1, 1])\n",
        "tau_red_blue_90[70:130, :] = white\n",
        "tau_red_blue_90 = ListedColormap(tau_red_blue_90)"
      ],
      "execution_count": null,
      "outputs": []
    },
    {
      "cell_type": "markdown",
      "metadata": {
        "id": "2mgvIbuJbw9z"
      },
      "source": [
        "#### Full Correlation Matrix"
      ]
    },
    {
      "cell_type": "code",
      "metadata": {
        "id": "QC9n7CpeASiC"
      },
      "source": [
        "clustered_matrix = cluster_corr(sample_data_numerical.data_df.corr())"
      ],
      "execution_count": null,
      "outputs": []
    },
    {
      "cell_type": "code",
      "metadata": {
        "id": "Z5733x9eKdED"
      },
      "source": [
        "plt.figure(figsize=(20,20))\n",
        "sns.heatmap(clustered_matrix, cmap=tau_red_blue_90, vmin=-1, vmax=1)\n",
        "plt.show()"
      ],
      "execution_count": null,
      "outputs": []
    },
    {
      "cell_type": "markdown",
      "metadata": {
        "id": "M3jtC2Uvbp1F"
      },
      "source": [
        "#### Pairwise correlations by Cell Line"
      ]
    },
    {
      "cell_type": "code",
      "metadata": {
        "id": "iuuTpn8APFCp"
      },
      "source": [
        "cell_list = siginfo_sample.groupby('cell_iname').median().sort_values('tas').index #sorted by median tas\n",
        "\n",
        "nrows, ncols = get_subplot_dimensions(len(cell_list))\n",
        "subplot_size = 5\n",
        "fig_hm, axes_hm = plt.subplots(nrows, ncols, figsize=(subplot_size*ncols*1.4,subplot_size*nrows))\n",
        "\n",
        "for i,cell in enumerate(cell_list):\n",
        "\n",
        "  lineage = core_cellinfo.loc[\n",
        "          core_cellinfo.cell_iname.eq(cell)\n",
        "        ].cell_lineage.unique()[0]\n",
        "\n",
        "  cell_siginfo = siginfo_sample.loc[\n",
        "    siginfo_sample.cell_iname.eq(cell)\n",
        "  ]\n",
        "\n",
        "  cell_sig_ids = cell_siginfo.sig_id.unique()  \n",
        "  \n",
        "  cell_corrs = corr_matrix.loc[cell_sig_ids, cell_sig_ids]\n",
        "\n",
        "  cell_corrs = cluster_corr(cell_corrs)\n",
        "\n",
        "  cell_siginfo.set_index('sig_id').loc[cell_corrs.columns] #sort to match clustered matrix\n",
        "  \n",
        "  sns.heatmap(cell_corrs,\n",
        "              cmap=tau_red_blue_90, \n",
        "              vmin=-1, \n",
        "              vmax=1,\n",
        "              ax=axes_hm[i // ncols][i % ncols])\n",
        "  \n",
        "  axes_hm[i // ncols][i % ncols].set_xticklabels([]) \n",
        "  axes_hm[i // ncols][i % ncols].set_yticklabels(cell_siginfo.cmap_name) # Add compound names\n",
        "  axes_hm[i // ncols][i % ncols].set_xlabel('')\n",
        "  axes_hm[i // ncols][i % ncols].set_ylabel('')\n",
        "  axes_hm[i // ncols][i % ncols].set_title('Cell Line: {}\\n Cell Lineage: {}'.format(cell, lineage))\n",
        "\n",
        "plt.tight_layout()\n"
      ],
      "execution_count": null,
      "outputs": []
    },
    {
      "cell_type": "markdown",
      "metadata": {
        "id": "Wus3S7O1xc_B"
      },
      "source": [
        "# Analysis 2 - Gene Mod"
      ]
    },
    {
      "cell_type": "markdown",
      "metadata": {
        "id": "6ELFcR1PVeVi"
      },
      "source": [
        "## Functions"
      ]
    },
    {
      "cell_type": "code",
      "metadata": {
        "id": "pDlBRpMRVNnu"
      },
      "source": [
        "def genemod_histograms_by_cell(data, \n",
        "                               info,\n",
        "                               cellinfo,\n",
        "                               cell_order,\n",
        "                               target,\n",
        "                               level='level5', \n",
        "                               xlim=[-10, 10],\n",
        "                               ylim=[0,10], \n",
        "                               metric_label='Normalized expression', \n",
        "                               plot_title=''):\n",
        "    dist_list = []\n",
        "    lineage_list = []\n",
        "\n",
        "    subplot_size = 5\n",
        "    nrows, ncols = get_subplot_dimensions(len(cell_order))\n",
        "    fig_dist, axes_dist = plt.subplots(nrows, ncols, figsize=(subplot_size*ncols,subplot_size*nrows))\n",
        "\n",
        "    for i,cell in enumerate(cell_order):\n",
        "        lineage = cellinfo.loc[\n",
        "              cellinfo.cell_iname.eq(cell)\n",
        "            ].cell_lineage.unique()[0]  #Lineage information for cell line\n",
        "\n",
        "        if level == 'level5':\n",
        "          cell_sig_ids = info.loc[\n",
        "            info.cell_iname.eq(cell)\n",
        "          ].sig_id.unique()  #Get sig_ids for cell line\n",
        "        elif level == 'level3':\n",
        "          cell_sig_ids = info.loc[\n",
        "            info.cell_iname.eq(cell)\n",
        "          ].sample_id.unique()  #Get sig_ids for cell line\n",
        "        \n",
        "        cell_genemod = data.loc[str(target_gene_id), cell_sig_ids] #Extract correlations for cell line\n",
        "  \n",
        "        sns.histplot(cell_genemod, \n",
        "                    binwidth=0.1,\n",
        "                    ax=axes_dist[i // ncols][i % ncols])\n",
        "        \n",
        "        axes_dist[i // ncols][i % ncols].set_title(\n",
        "          '{} ({})'.format(\n",
        "              cell, \n",
        "              lineage\n",
        "            )\n",
        "          )\n",
        "        axes_dist[i // ncols][i % ncols].set_xlim(xlim)\n",
        "        axes_dist[i // ncols][i % ncols].set_ylim(ylim)\n",
        "        axes_dist[i // ncols][i % ncols].set_xlabel('{} for {}'.format(metric_label, target))\n",
        "\n",
        "    plt.tight_layout(rect=[0, 0.03, 1, 0.95])\n",
        "    plt.suptitle(plot_title, fontsize=15)\n",
        "    plt.show()\n",
        "\n",
        "\n",
        "\n",
        "def genemod_boxplot_by_cell(data, \n",
        "                            info,\n",
        "                            cellinfo,\n",
        "                            cell_order,\n",
        "                            target,\n",
        "                            colors_list = ['brown', 'red', 'orange', 'red', 'magenta', 'blue', 'cyan', 'green', 'green'],\n",
        "                            level='level3', \n",
        "                            ylim=[0,14],\n",
        "                            metric_label='Normalized expression',\n",
        "                            plot_title=''):\n",
        "    dist_list = []\n",
        "    lineage_list = []\n",
        "\n",
        "    for i,cell in enumerate(cell_order):\n",
        "        lineage = cellinfo.loc[\n",
        "              cellinfo.cell_iname.eq(cell)\n",
        "            ].cell_lineage.unique()[0]  #Lineage information for cell line\n",
        "        lineage_list.append(lineage)\n",
        "\n",
        "        if level == 'level5':\n",
        "          cell_sig_ids = info.loc[\n",
        "            info.cell_iname.eq(cell)\n",
        "          ].sig_id.unique()  #Get sig_ids for cell line\n",
        "        elif level == 'level3':\n",
        "          cell_sig_ids = info.loc[\n",
        "            info.cell_iname.eq(cell)\n",
        "          ].sample_id.unique()  #Get sig_ids for cell line\n",
        "        \n",
        "        cell_genemod = data.loc[str(target_gene_id), cell_sig_ids] #Extract correlations for cell line\n",
        "        dist_list.append(cell_genemod)\n",
        "\n",
        "    plt.figure(figsize=(10,10))\n",
        "    colors_list = ['brown', 'red', 'orange', 'red', 'magenta', 'blue', 'cyan', 'green', 'green'] #manual coloring by cell_lineage\n",
        "\n",
        "    sns.boxplot(\n",
        "        data=dist_list,\n",
        "        palette=colors_list\n",
        "        )\n",
        "\n",
        "    labels = ['{}\\n({})'.format(cell_list[i], lineage_list[i]) for i in range(0,len(cell_list))]\n",
        "    plt.xticks(np.linspace(0,len(cell_list)-1, len(cell_list)), labels)\n",
        "\n",
        "    plt.ylabel('{} {}'.format(target, metric_label))\n",
        "    plt.xlabel('Cell Line')\n",
        "    plt.ylim(ylim)\n",
        "    plt.title(plot_title)\n",
        "    plt.show()\n"
      ],
      "execution_count": null,
      "outputs": []
    },
    {
      "cell_type": "markdown",
      "metadata": {
        "id": "KrrRIYOrdCAK"
      },
      "source": [
        "## Level 5 Gene Mod"
      ]
    },
    {
      "cell_type": "markdown",
      "metadata": {
        "id": "wdLOx1_Mxj5o"
      },
      "source": [
        "Take a look the level 5 gene modulation of the target "
      ]
    },
    {
      "cell_type": "code",
      "metadata": {
        "id": "5WqDqQB-xbml"
      },
      "source": [
        "target = 'NR3C1'\n",
        "target_info = cmap_query.cmap_genes(bq_client, gene_symbol='NR3C1')\n",
        "target_gene_id = target_info.gene_id.item()"
      ],
      "execution_count": null,
      "outputs": []
    },
    {
      "cell_type": "markdown",
      "metadata": {
        "id": "tWLNXuJodYHg"
      },
      "source": [
        "### Histograms"
      ]
    },
    {
      "cell_type": "code",
      "metadata": {
        "id": "YtxZC9ozzjT8"
      },
      "source": [
        "sample_data = sample_data_numerical.data_df\n",
        "\n",
        "cell_sig_ids = siginfo_sample.loc[\n",
        "  siginfo_sample.cell_iname.eq('MCF7')\n",
        "].sig_id.unique()  #Get sig_ids for cell line\n",
        "\n",
        "global_genemod = sample_data.loc[str(target_gene_id), :] #Extract correlations for target\n",
        "sns.histplot(global_genemod, \n",
        "              binwidth=0.1).set_xlim(-10, 10)\n",
        "\n",
        "plt.title('Global {} expression in core cell lines'.format(target))\n",
        "plt.xlabel('Mod Z-Score for {}'.format(target))\n",
        "plt.show()"
      ],
      "execution_count": null,
      "outputs": []
    },
    {
      "cell_type": "code",
      "metadata": {
        "id": "PmDaRe6kdcdQ"
      },
      "source": [
        "genemod_histograms_by_cell(sample_data, \n",
        "                           siginfo_sample, \n",
        "                           core_cellinfo, \n",
        "                           cell_list,\n",
        "                           target=target, \n",
        "                           level='level5',\n",
        "                           xlim=[-5,5],\n",
        "                           metric_label='Mod Z-Scores',\n",
        "                           plot_title='Distribution of Mod Z-Score values in Glucocorticoid Recepter Agonist treated wells')"
      ],
      "execution_count": null,
      "outputs": []
    },
    {
      "cell_type": "code",
      "metadata": {
        "id": "P02rxn3peI0i"
      },
      "source": [
        "genemod_boxplot_by_cell(sample_data, \n",
        "                           siginfo_sample, \n",
        "                           core_cellinfo, \n",
        "                           cell_list,\n",
        "                           target=target, \n",
        "                           level='level5',\n",
        "                           metric_label='Normalized expression', \n",
        "                           ylim=[-10, 10],\n",
        "                           plot_title='Distribution of NR3C1 mod z-scores in Glucocorticoid Recepter Agonist treated wells')"
      ],
      "execution_count": null,
      "outputs": []
    },
    {
      "cell_type": "markdown",
      "metadata": {
        "id": "qRWddbnJtnf5"
      },
      "source": [
        "## Comparison of Normalized Gene Expression (level 3) profiles \n",
        "\n",
        "\n"
      ]
    },
    {
      "cell_type": "markdown",
      "metadata": {
        "id": "6ee5gBYbttMd"
      },
      "source": [
        "Within the siginfo table, a few fields can be used to track down the level 3 and 4 profiles that were collapsed into the level 5 signature. \n",
        "\n",
        "\n",
        "1. First is `distil_ids` which is a concatenation of `sample_id` values from the `instinfo` table. sample_ids can be recovered by splitting by the `|` delimiter\n",
        "\n",
        "2. The `det_plates` field specifies which detection plate a profile was treated. In the `siginfo` table, this is often a concatenation of multiple values delimited by `|`. This can be useful for identifying control wells that from the same treatment plates as the treated wells.\n"
      ]
    },
    {
      "cell_type": "code",
      "metadata": {
        "id": "fJxJlJXZ3Jgc"
      },
      "source": [
        "siginfo_sample.sample(5)[['distil_ids', 'det_plates']]"
      ],
      "execution_count": null,
      "outputs": []
    },
    {
      "cell_type": "code",
      "metadata": {
        "id": "bQpITAwotetN"
      },
      "source": [
        "distil_ids = siginfo_sample.apply(lambda row: row['distil_ids'].split('|'), axis=1)\n",
        "sample_ids = [sample for id_list in distil_ids for sample in id_list]"
      ],
      "execution_count": null,
      "outputs": []
    },
    {
      "cell_type": "code",
      "metadata": {
        "id": "Q53PypTFxxNW"
      },
      "source": [
        "print(\"Number of sig_ids: {}\".format(len(siginfo_sample)))\n",
        "print(\"Number of sample_ids: {}\".format(len(sample_ids)))"
      ],
      "execution_count": null,
      "outputs": []
    },
    {
      "cell_type": "code",
      "metadata": {
        "id": "FqfRom7g0FJl"
      },
      "source": [
        "instinfo = cmap_query.cmap_profiles(bq_client, sample_id=sample_ids)"
      ],
      "execution_count": null,
      "outputs": []
    },
    {
      "cell_type": "code",
      "metadata": {
        "id": "TcdNZC8P0H0I"
      },
      "source": [
        "instinfo.sample(10)"
      ],
      "execution_count": null,
      "outputs": []
    },
    {
      "cell_type": "markdown",
      "metadata": {
        "id": "mtH6h-zO3iIL"
      },
      "source": [
        "### Get Level 3 data"
      ]
    },
    {
      "cell_type": "code",
      "metadata": {
        "id": "4B6M8XXU1n3X"
      },
      "source": [
        "level3_data = cmap_query.cmap_matrix(bq_client, data_level='level3', cid=instinfo.sample_id.to_list(), limit=len(instinfo))"
      ],
      "execution_count": null,
      "outputs": []
    },
    {
      "cell_type": "code",
      "metadata": {
        "id": "W6c_ZbFgOEdB"
      },
      "source": [
        "level3_clustered_matrix = cluster_corr(level3_data.data_df.corr())"
      ],
      "execution_count": null,
      "outputs": []
    },
    {
      "cell_type": "code",
      "metadata": {
        "id": "iJbRBAeg5ol1"
      },
      "source": [
        "global_genemod = level3_data.data_df.loc[str(target_gene_id), :] #Extract correlations for cell line\n",
        "sns.histplot(global_genemod, \n",
        "              binwidth=0.1)\n",
        "\n",
        "plt.title('Global {} expression in core cell lines'.format(target))\n",
        "plt.xlabel('Mod Z-Score for {}'.format(target))\n",
        "plt.show()"
      ],
      "execution_count": null,
      "outputs": []
    },
    {
      "cell_type": "markdown",
      "metadata": {
        "id": "XXTzBoUqEQWP"
      },
      "source": [
        "### Histograms"
      ]
    },
    {
      "cell_type": "code",
      "metadata": {
        "id": "_ABBuNSHRMh0"
      },
      "source": [
        "genemod_histograms_by_cell(level3_data.data_df,\n",
        "                           instinfo,\n",
        "                           core_cellinfo,\n",
        "                           cell_order=cell_list,\n",
        "                           target=target,\n",
        "                           level='level3',\n",
        "                           xlim=[0, 14],\n",
        "                           ylim=None,\n",
        "                           metric_label='Normalized expression', \n",
        "                           plot_title='Distribution of normalized expression in Glucocorticoid Recepter Agonist treated wells')"
      ],
      "execution_count": null,
      "outputs": []
    },
    {
      "cell_type": "markdown",
      "metadata": {
        "id": "w5JVXObkEQWO"
      },
      "source": [
        "### Boxplots"
      ]
    },
    {
      "cell_type": "code",
      "metadata": {
        "id": "EJdIX24gXET-"
      },
      "source": [
        "genemod_boxplot_by_cell(level3_data.data_df,\n",
        "                           instinfo,\n",
        "                           core_cellinfo,\n",
        "                           cell_order=cell_list,\n",
        "                           target=target,\n",
        "                           level='level3',\n",
        "                           metric_label='Normalized expression', \n",
        "                           plot_title='Distribution of normalized expression in Glucocorticoid Recepter Agonist treated wells')"
      ],
      "execution_count": null,
      "outputs": []
    },
    {
      "cell_type": "markdown",
      "metadata": {
        "id": "C3AqYJupXJDq"
      },
      "source": [
        "## Comparison of Target Gene Expression in Control Wells"
      ]
    },
    {
      "cell_type": "markdown",
      "metadata": {
        "id": "ngdwMnnp6Q3a"
      },
      "source": [
        "### Getting data for control wells within the same plate as treatements"
      ]
    },
    {
      "cell_type": "code",
      "metadata": {
        "id": "mAxj51176Tqd"
      },
      "source": [
        "print(\"Number of unique plates: {}\".format(len(instinfo.det_plate.unique())))"
      ],
      "execution_count": null,
      "outputs": []
    },
    {
      "cell_type": "code",
      "metadata": {
        "id": "bsOXcQDU7evw"
      },
      "source": [
        "types = [\n",
        "         'ctl_vehicle', \n",
        "#         'ctl_untrt'\n",
        "    ]\n",
        "\n",
        "ctl_instinfo = cmap_query.cmap_profiles(bq_client, pert_type=types , det_plate=list(instinfo.det_plate.unique()))\n",
        "\n",
        "print(\"Length of ctl instinfo: {}\".format(len(ctl_instinfo)))"
      ],
      "execution_count": null,
      "outputs": []
    },
    {
      "cell_type": "code",
      "metadata": {
        "id": "dIcQ4g_ge6GU"
      },
      "source": [
        "ctl_instinfo.sample(10)"
      ],
      "execution_count": null,
      "outputs": []
    },
    {
      "cell_type": "code",
      "metadata": {
        "id": "gM65Be8gez6S"
      },
      "source": [
        "ctl_data = cmap_query.cmap_matrix(bq_client, data_level='level3', cid=list(ctl_instinfo.sample_id), limit=10000)\n",
        "\n",
        "target_ctl_genemod = ctl_data.data_df.loc[str(target_gene_id), :]"
      ],
      "execution_count": null,
      "outputs": []
    },
    {
      "cell_type": "markdown",
      "metadata": {
        "id": "4tjPntQaXUV_"
      },
      "source": [
        "### Histograms"
      ]
    },
    {
      "cell_type": "code",
      "metadata": {
        "id": "r3kPJ9v_Vu2Y"
      },
      "source": [
        "sns.histplot(target_ctl_genemod, \n",
        "              binwidth=0.1)\n",
        "\n",
        "plt.title('Distribution of normalized expression\\n values for {} in core cell lines'.format(target))\n",
        "plt.xlabel('Normalized expression values for {}'.format(target))\n",
        "plt.show()"
      ],
      "execution_count": null,
      "outputs": []
    },
    {
      "cell_type": "code",
      "metadata": {
        "id": "0crJRQEfTGo6"
      },
      "source": [
        "genemod_histograms_by_cell(ctl_data.data_df,\n",
        "                           ctl_instinfo,\n",
        "                           core_cellinfo,\n",
        "                           cell_list,\n",
        "                           target=target,\n",
        "                           level='level3',\n",
        "                           xlim=[0,14], ylim=None,\n",
        "                           metric_label='normalized expression',\n",
        "                           plot_title='Distribution of Normalized expression in Control Wells')"
      ],
      "execution_count": null,
      "outputs": []
    },
    {
      "cell_type": "markdown",
      "metadata": {
        "id": "tHZLt-MwXQdY"
      },
      "source": [
        "### Boxplots"
      ]
    },
    {
      "cell_type": "code",
      "metadata": {
        "id": "pb86RL869lgp"
      },
      "source": [
        "genemod_boxplot_by_cell(ctl_data.data_df,\n",
        "                           ctl_instinfo,\n",
        "                           core_cellinfo,\n",
        "                           cell_order=cell_list,\n",
        "                           target=target,\n",
        "                           level='level3',\n",
        "                           metric_label='Normalized expression',\n",
        "                           plot_title='Distribution of Normalized expression in Control Wells')"
      ],
      "execution_count": null,
      "outputs": []
    }
  ]
}